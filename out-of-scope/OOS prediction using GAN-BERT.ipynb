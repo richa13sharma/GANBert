{
  "nbformat": 4,
  "nbformat_minor": 0,
  "metadata": {
    "colab": {
      "provenance": []
    },
    "kernelspec": {
      "name": "python3",
      "display_name": "Python 3"
    },
    "language_info": {
      "name": "python"
    },
    "accelerator": "GPU",
    "gpuClass": "standard",
    "widgets": {
      "application/vnd.jupyter.widget-state+json": {
        "69603c19ebb94c6098ac8cb128b13993": {
          "model_module": "@jupyter-widgets/controls",
          "model_name": "HBoxModel",
          "model_module_version": "1.5.0",
          "state": {
            "_dom_classes": [],
            "_model_module": "@jupyter-widgets/controls",
            "_model_module_version": "1.5.0",
            "_model_name": "HBoxModel",
            "_view_count": null,
            "_view_module": "@jupyter-widgets/controls",
            "_view_module_version": "1.5.0",
            "_view_name": "HBoxView",
            "box_style": "",
            "children": [
              "IPY_MODEL_3b8deef7718b4f848674a15590ab6d12",
              "IPY_MODEL_8d7134789ec44ea394eab128aeb34afc",
              "IPY_MODEL_0f160ffb85e54796818ae5ba1725da98"
            ],
            "layout": "IPY_MODEL_a4f10cadeecb4702913f2d187f242748"
          }
        },
        "3b8deef7718b4f848674a15590ab6d12": {
          "model_module": "@jupyter-widgets/controls",
          "model_name": "HTMLModel",
          "model_module_version": "1.5.0",
          "state": {
            "_dom_classes": [],
            "_model_module": "@jupyter-widgets/controls",
            "_model_module_version": "1.5.0",
            "_model_name": "HTMLModel",
            "_view_count": null,
            "_view_module": "@jupyter-widgets/controls",
            "_view_module_version": "1.5.0",
            "_view_name": "HTMLView",
            "description": "",
            "description_tooltip": null,
            "layout": "IPY_MODEL_633b5cf1e8094b4db6b81a38f2c41338",
            "placeholder": "​",
            "style": "IPY_MODEL_aed5938fccb8427c99ced2d4a5702d23",
            "value": "100%"
          }
        },
        "8d7134789ec44ea394eab128aeb34afc": {
          "model_module": "@jupyter-widgets/controls",
          "model_name": "FloatProgressModel",
          "model_module_version": "1.5.0",
          "state": {
            "_dom_classes": [],
            "_model_module": "@jupyter-widgets/controls",
            "_model_module_version": "1.5.0",
            "_model_name": "FloatProgressModel",
            "_view_count": null,
            "_view_module": "@jupyter-widgets/controls",
            "_view_module_version": "1.5.0",
            "_view_name": "ProgressView",
            "bar_style": "success",
            "description": "",
            "description_tooltip": null,
            "layout": "IPY_MODEL_0013fde3de7142a89d639d2ef67b5ad2",
            "max": 3,
            "min": 0,
            "orientation": "horizontal",
            "style": "IPY_MODEL_0f4f4d2fe1dd4a6b9bcfc4e9c738134b",
            "value": 3
          }
        },
        "0f160ffb85e54796818ae5ba1725da98": {
          "model_module": "@jupyter-widgets/controls",
          "model_name": "HTMLModel",
          "model_module_version": "1.5.0",
          "state": {
            "_dom_classes": [],
            "_model_module": "@jupyter-widgets/controls",
            "_model_module_version": "1.5.0",
            "_model_name": "HTMLModel",
            "_view_count": null,
            "_view_module": "@jupyter-widgets/controls",
            "_view_module_version": "1.5.0",
            "_view_name": "HTMLView",
            "description": "",
            "description_tooltip": null,
            "layout": "IPY_MODEL_c43a684d23b147378018ec95e3508abc",
            "placeholder": "​",
            "style": "IPY_MODEL_395a2d8691e04e609c50031604637d4c",
            "value": " 3/3 [00:00&lt;00:00, 102.04it/s]"
          }
        },
        "a4f10cadeecb4702913f2d187f242748": {
          "model_module": "@jupyter-widgets/base",
          "model_name": "LayoutModel",
          "model_module_version": "1.2.0",
          "state": {
            "_model_module": "@jupyter-widgets/base",
            "_model_module_version": "1.2.0",
            "_model_name": "LayoutModel",
            "_view_count": null,
            "_view_module": "@jupyter-widgets/base",
            "_view_module_version": "1.2.0",
            "_view_name": "LayoutView",
            "align_content": null,
            "align_items": null,
            "align_self": null,
            "border": null,
            "bottom": null,
            "display": null,
            "flex": null,
            "flex_flow": null,
            "grid_area": null,
            "grid_auto_columns": null,
            "grid_auto_flow": null,
            "grid_auto_rows": null,
            "grid_column": null,
            "grid_gap": null,
            "grid_row": null,
            "grid_template_areas": null,
            "grid_template_columns": null,
            "grid_template_rows": null,
            "height": null,
            "justify_content": null,
            "justify_items": null,
            "left": null,
            "margin": null,
            "max_height": null,
            "max_width": null,
            "min_height": null,
            "min_width": null,
            "object_fit": null,
            "object_position": null,
            "order": null,
            "overflow": null,
            "overflow_x": null,
            "overflow_y": null,
            "padding": null,
            "right": null,
            "top": null,
            "visibility": null,
            "width": null
          }
        },
        "633b5cf1e8094b4db6b81a38f2c41338": {
          "model_module": "@jupyter-widgets/base",
          "model_name": "LayoutModel",
          "model_module_version": "1.2.0",
          "state": {
            "_model_module": "@jupyter-widgets/base",
            "_model_module_version": "1.2.0",
            "_model_name": "LayoutModel",
            "_view_count": null,
            "_view_module": "@jupyter-widgets/base",
            "_view_module_version": "1.2.0",
            "_view_name": "LayoutView",
            "align_content": null,
            "align_items": null,
            "align_self": null,
            "border": null,
            "bottom": null,
            "display": null,
            "flex": null,
            "flex_flow": null,
            "grid_area": null,
            "grid_auto_columns": null,
            "grid_auto_flow": null,
            "grid_auto_rows": null,
            "grid_column": null,
            "grid_gap": null,
            "grid_row": null,
            "grid_template_areas": null,
            "grid_template_columns": null,
            "grid_template_rows": null,
            "height": null,
            "justify_content": null,
            "justify_items": null,
            "left": null,
            "margin": null,
            "max_height": null,
            "max_width": null,
            "min_height": null,
            "min_width": null,
            "object_fit": null,
            "object_position": null,
            "order": null,
            "overflow": null,
            "overflow_x": null,
            "overflow_y": null,
            "padding": null,
            "right": null,
            "top": null,
            "visibility": null,
            "width": null
          }
        },
        "aed5938fccb8427c99ced2d4a5702d23": {
          "model_module": "@jupyter-widgets/controls",
          "model_name": "DescriptionStyleModel",
          "model_module_version": "1.5.0",
          "state": {
            "_model_module": "@jupyter-widgets/controls",
            "_model_module_version": "1.5.0",
            "_model_name": "DescriptionStyleModel",
            "_view_count": null,
            "_view_module": "@jupyter-widgets/base",
            "_view_module_version": "1.2.0",
            "_view_name": "StyleView",
            "description_width": ""
          }
        },
        "0013fde3de7142a89d639d2ef67b5ad2": {
          "model_module": "@jupyter-widgets/base",
          "model_name": "LayoutModel",
          "model_module_version": "1.2.0",
          "state": {
            "_model_module": "@jupyter-widgets/base",
            "_model_module_version": "1.2.0",
            "_model_name": "LayoutModel",
            "_view_count": null,
            "_view_module": "@jupyter-widgets/base",
            "_view_module_version": "1.2.0",
            "_view_name": "LayoutView",
            "align_content": null,
            "align_items": null,
            "align_self": null,
            "border": null,
            "bottom": null,
            "display": null,
            "flex": null,
            "flex_flow": null,
            "grid_area": null,
            "grid_auto_columns": null,
            "grid_auto_flow": null,
            "grid_auto_rows": null,
            "grid_column": null,
            "grid_gap": null,
            "grid_row": null,
            "grid_template_areas": null,
            "grid_template_columns": null,
            "grid_template_rows": null,
            "height": null,
            "justify_content": null,
            "justify_items": null,
            "left": null,
            "margin": null,
            "max_height": null,
            "max_width": null,
            "min_height": null,
            "min_width": null,
            "object_fit": null,
            "object_position": null,
            "order": null,
            "overflow": null,
            "overflow_x": null,
            "overflow_y": null,
            "padding": null,
            "right": null,
            "top": null,
            "visibility": null,
            "width": null
          }
        },
        "0f4f4d2fe1dd4a6b9bcfc4e9c738134b": {
          "model_module": "@jupyter-widgets/controls",
          "model_name": "ProgressStyleModel",
          "model_module_version": "1.5.0",
          "state": {
            "_model_module": "@jupyter-widgets/controls",
            "_model_module_version": "1.5.0",
            "_model_name": "ProgressStyleModel",
            "_view_count": null,
            "_view_module": "@jupyter-widgets/base",
            "_view_module_version": "1.2.0",
            "_view_name": "StyleView",
            "bar_color": null,
            "description_width": ""
          }
        },
        "c43a684d23b147378018ec95e3508abc": {
          "model_module": "@jupyter-widgets/base",
          "model_name": "LayoutModel",
          "model_module_version": "1.2.0",
          "state": {
            "_model_module": "@jupyter-widgets/base",
            "_model_module_version": "1.2.0",
            "_model_name": "LayoutModel",
            "_view_count": null,
            "_view_module": "@jupyter-widgets/base",
            "_view_module_version": "1.2.0",
            "_view_name": "LayoutView",
            "align_content": null,
            "align_items": null,
            "align_self": null,
            "border": null,
            "bottom": null,
            "display": null,
            "flex": null,
            "flex_flow": null,
            "grid_area": null,
            "grid_auto_columns": null,
            "grid_auto_flow": null,
            "grid_auto_rows": null,
            "grid_column": null,
            "grid_gap": null,
            "grid_row": null,
            "grid_template_areas": null,
            "grid_template_columns": null,
            "grid_template_rows": null,
            "height": null,
            "justify_content": null,
            "justify_items": null,
            "left": null,
            "margin": null,
            "max_height": null,
            "max_width": null,
            "min_height": null,
            "min_width": null,
            "object_fit": null,
            "object_position": null,
            "order": null,
            "overflow": null,
            "overflow_x": null,
            "overflow_y": null,
            "padding": null,
            "right": null,
            "top": null,
            "visibility": null,
            "width": null
          }
        },
        "395a2d8691e04e609c50031604637d4c": {
          "model_module": "@jupyter-widgets/controls",
          "model_name": "DescriptionStyleModel",
          "model_module_version": "1.5.0",
          "state": {
            "_model_module": "@jupyter-widgets/controls",
            "_model_module_version": "1.5.0",
            "_model_name": "DescriptionStyleModel",
            "_view_count": null,
            "_view_module": "@jupyter-widgets/base",
            "_view_module_version": "1.2.0",
            "_view_name": "StyleView",
            "description_width": ""
          }
        }
      }
    }
  },
  "cells": [
    {
      "cell_type": "markdown",
      "source": [
        "# Out-of-scope Prediction with GAN-BERT\n",
        "\n",
        "In this notebook, we use the OOS+ variant of the CLINC150 dataset which contains 250 training utterances of the OOS class. \n",
        "We use the GAN-BERT model for the prediction of this oos class (label 42 in the huggingface dataset we use) and see how its performance compares to BERT-base, which the CLINC150 paper had tested on."
      ],
      "metadata": {
        "id": "JdBQ2DcpYRek"
      }
    },
    {
      "cell_type": "markdown",
      "source": [
        "## Importing necessary packages"
      ],
      "metadata": {
        "id": "rItvsdM7Tgk1"
      }
    },
    {
      "cell_type": "code",
      "source": [
        "!pip install transformers==4.3.2\n",
        "!pip install datasets"
      ],
      "metadata": {
        "colab": {
          "base_uri": "https://localhost:8080/"
        },
        "id": "tOAcH6FiUDuA",
        "outputId": "6a43f87a-3964-4c74-c1d3-b165872d6be8"
      },
      "execution_count": 1,
      "outputs": [
        {
          "output_type": "stream",
          "name": "stdout",
          "text": [
            "Looking in indexes: https://pypi.org/simple, https://us-python.pkg.dev/colab-wheels/public/simple/\n",
            "Collecting transformers==4.3.2\n",
            "  Downloading transformers-4.3.2-py3-none-any.whl (1.8 MB)\n",
            "\u001b[K     |████████████████████████████████| 1.8 MB 14.7 MB/s \n",
            "\u001b[?25hRequirement already satisfied: requests in /usr/local/lib/python3.8/dist-packages (from transformers==4.3.2) (2.23.0)\n",
            "Requirement already satisfied: regex!=2019.12.17 in /usr/local/lib/python3.8/dist-packages (from transformers==4.3.2) (2022.6.2)\n",
            "Collecting sacremoses\n",
            "  Downloading sacremoses-0.0.53.tar.gz (880 kB)\n",
            "\u001b[K     |████████████████████████████████| 880 kB 69.6 MB/s \n",
            "\u001b[?25hRequirement already satisfied: filelock in /usr/local/lib/python3.8/dist-packages (from transformers==4.3.2) (3.8.2)\n",
            "Collecting tokenizers<0.11,>=0.10.1\n",
            "  Downloading tokenizers-0.10.3-cp38-cp38-manylinux_2_5_x86_64.manylinux1_x86_64.manylinux_2_12_x86_64.manylinux2010_x86_64.whl (3.3 MB)\n",
            "\u001b[K     |████████████████████████████████| 3.3 MB 61.9 MB/s \n",
            "\u001b[?25hRequirement already satisfied: tqdm>=4.27 in /usr/local/lib/python3.8/dist-packages (from transformers==4.3.2) (4.64.1)\n",
            "Requirement already satisfied: packaging in /usr/local/lib/python3.8/dist-packages (from transformers==4.3.2) (21.3)\n",
            "Requirement already satisfied: numpy>=1.17 in /usr/local/lib/python3.8/dist-packages (from transformers==4.3.2) (1.21.6)\n",
            "Requirement already satisfied: pyparsing!=3.0.5,>=2.0.2 in /usr/local/lib/python3.8/dist-packages (from packaging->transformers==4.3.2) (3.0.9)\n",
            "Requirement already satisfied: urllib3!=1.25.0,!=1.25.1,<1.26,>=1.21.1 in /usr/local/lib/python3.8/dist-packages (from requests->transformers==4.3.2) (1.24.3)\n",
            "Requirement already satisfied: certifi>=2017.4.17 in /usr/local/lib/python3.8/dist-packages (from requests->transformers==4.3.2) (2022.12.7)\n",
            "Requirement already satisfied: idna<3,>=2.5 in /usr/local/lib/python3.8/dist-packages (from requests->transformers==4.3.2) (2.10)\n",
            "Requirement already satisfied: chardet<4,>=3.0.2 in /usr/local/lib/python3.8/dist-packages (from requests->transformers==4.3.2) (3.0.4)\n",
            "Requirement already satisfied: six in /usr/local/lib/python3.8/dist-packages (from sacremoses->transformers==4.3.2) (1.15.0)\n",
            "Requirement already satisfied: click in /usr/local/lib/python3.8/dist-packages (from sacremoses->transformers==4.3.2) (7.1.2)\n",
            "Requirement already satisfied: joblib in /usr/local/lib/python3.8/dist-packages (from sacremoses->transformers==4.3.2) (1.2.0)\n",
            "Building wheels for collected packages: sacremoses\n",
            "  Building wheel for sacremoses (setup.py) ... \u001b[?25l\u001b[?25hdone\n",
            "  Created wheel for sacremoses: filename=sacremoses-0.0.53-py3-none-any.whl size=895260 sha256=d8e4d97f1544a9bedbc8d7051b0bb34b5707a97b4562e5c66268105e063912a7\n",
            "  Stored in directory: /root/.cache/pip/wheels/82/ab/9b/c15899bf659ba74f623ac776e861cf2eb8608c1825ddec66a4\n",
            "Successfully built sacremoses\n",
            "Installing collected packages: tokenizers, sacremoses, transformers\n",
            "Successfully installed sacremoses-0.0.53 tokenizers-0.10.3 transformers-4.3.2\n",
            "Looking in indexes: https://pypi.org/simple, https://us-python.pkg.dev/colab-wheels/public/simple/\n",
            "Collecting datasets\n",
            "  Downloading datasets-2.8.0-py3-none-any.whl (452 kB)\n",
            "\u001b[K     |████████████████████████████████| 452 kB 15.2 MB/s \n",
            "\u001b[?25hRequirement already satisfied: requests>=2.19.0 in /usr/local/lib/python3.8/dist-packages (from datasets) (2.23.0)\n",
            "Collecting multiprocess\n",
            "  Downloading multiprocess-0.70.14-py38-none-any.whl (132 kB)\n",
            "\u001b[K     |████████████████████████████████| 132 kB 71.0 MB/s \n",
            "\u001b[?25hRequirement already satisfied: pandas in /usr/local/lib/python3.8/dist-packages (from datasets) (1.3.5)\n",
            "Requirement already satisfied: aiohttp in /usr/local/lib/python3.8/dist-packages (from datasets) (3.8.3)\n",
            "Collecting huggingface-hub<1.0.0,>=0.2.0\n",
            "  Downloading huggingface_hub-0.11.1-py3-none-any.whl (182 kB)\n",
            "\u001b[K     |████████████████████████████████| 182 kB 9.9 MB/s \n",
            "\u001b[?25hCollecting responses<0.19\n",
            "  Downloading responses-0.18.0-py3-none-any.whl (38 kB)\n",
            "Requirement already satisfied: pyarrow>=6.0.0 in /usr/local/lib/python3.8/dist-packages (from datasets) (9.0.0)\n",
            "Requirement already satisfied: numpy>=1.17 in /usr/local/lib/python3.8/dist-packages (from datasets) (1.21.6)\n",
            "Requirement already satisfied: packaging in /usr/local/lib/python3.8/dist-packages (from datasets) (21.3)\n",
            "Requirement already satisfied: dill<0.3.7 in /usr/local/lib/python3.8/dist-packages (from datasets) (0.3.6)\n",
            "Collecting xxhash\n",
            "  Downloading xxhash-3.1.0-cp38-cp38-manylinux_2_17_x86_64.manylinux2014_x86_64.whl (212 kB)\n",
            "\u001b[K     |████████████████████████████████| 212 kB 67.9 MB/s \n",
            "\u001b[?25hRequirement already satisfied: pyyaml>=5.1 in /usr/local/lib/python3.8/dist-packages (from datasets) (6.0)\n",
            "Requirement already satisfied: tqdm>=4.62.1 in /usr/local/lib/python3.8/dist-packages (from datasets) (4.64.1)\n",
            "Requirement already satisfied: fsspec[http]>=2021.11.1 in /usr/local/lib/python3.8/dist-packages (from datasets) (2022.11.0)\n",
            "Requirement already satisfied: aiosignal>=1.1.2 in /usr/local/lib/python3.8/dist-packages (from aiohttp->datasets) (1.3.1)\n",
            "Requirement already satisfied: async-timeout<5.0,>=4.0.0a3 in /usr/local/lib/python3.8/dist-packages (from aiohttp->datasets) (4.0.2)\n",
            "Requirement already satisfied: charset-normalizer<3.0,>=2.0 in /usr/local/lib/python3.8/dist-packages (from aiohttp->datasets) (2.1.1)\n",
            "Requirement already satisfied: yarl<2.0,>=1.0 in /usr/local/lib/python3.8/dist-packages (from aiohttp->datasets) (1.8.2)\n",
            "Requirement already satisfied: frozenlist>=1.1.1 in /usr/local/lib/python3.8/dist-packages (from aiohttp->datasets) (1.3.3)\n",
            "Requirement already satisfied: multidict<7.0,>=4.5 in /usr/local/lib/python3.8/dist-packages (from aiohttp->datasets) (6.0.3)\n",
            "Requirement already satisfied: attrs>=17.3.0 in /usr/local/lib/python3.8/dist-packages (from aiohttp->datasets) (22.1.0)\n",
            "Requirement already satisfied: filelock in /usr/local/lib/python3.8/dist-packages (from huggingface-hub<1.0.0,>=0.2.0->datasets) (3.8.2)\n",
            "Requirement already satisfied: typing-extensions>=3.7.4.3 in /usr/local/lib/python3.8/dist-packages (from huggingface-hub<1.0.0,>=0.2.0->datasets) (4.4.0)\n",
            "Requirement already satisfied: pyparsing!=3.0.5,>=2.0.2 in /usr/local/lib/python3.8/dist-packages (from packaging->datasets) (3.0.9)\n",
            "Requirement already satisfied: idna<3,>=2.5 in /usr/local/lib/python3.8/dist-packages (from requests>=2.19.0->datasets) (2.10)\n",
            "Requirement already satisfied: chardet<4,>=3.0.2 in /usr/local/lib/python3.8/dist-packages (from requests>=2.19.0->datasets) (3.0.4)\n",
            "Requirement already satisfied: certifi>=2017.4.17 in /usr/local/lib/python3.8/dist-packages (from requests>=2.19.0->datasets) (2022.12.7)\n",
            "Requirement already satisfied: urllib3!=1.25.0,!=1.25.1,<1.26,>=1.21.1 in /usr/local/lib/python3.8/dist-packages (from requests>=2.19.0->datasets) (1.24.3)\n",
            "Collecting urllib3!=1.25.0,!=1.25.1,<1.26,>=1.21.1\n",
            "  Downloading urllib3-1.25.11-py2.py3-none-any.whl (127 kB)\n",
            "\u001b[K     |████████████████████████████████| 127 kB 74.2 MB/s \n",
            "\u001b[?25hRequirement already satisfied: python-dateutil>=2.7.3 in /usr/local/lib/python3.8/dist-packages (from pandas->datasets) (2.8.2)\n",
            "Requirement already satisfied: pytz>=2017.3 in /usr/local/lib/python3.8/dist-packages (from pandas->datasets) (2022.6)\n",
            "Requirement already satisfied: six>=1.5 in /usr/local/lib/python3.8/dist-packages (from python-dateutil>=2.7.3->pandas->datasets) (1.15.0)\n",
            "Installing collected packages: urllib3, xxhash, responses, multiprocess, huggingface-hub, datasets\n",
            "  Attempting uninstall: urllib3\n",
            "    Found existing installation: urllib3 1.24.3\n",
            "    Uninstalling urllib3-1.24.3:\n",
            "      Successfully uninstalled urllib3-1.24.3\n",
            "Successfully installed datasets-2.8.0 huggingface-hub-0.11.1 multiprocess-0.70.14 responses-0.18.0 urllib3-1.25.11 xxhash-3.1.0\n"
          ]
        }
      ]
    },
    {
      "cell_type": "code",
      "execution_count": 2,
      "metadata": {
        "id": "yzDP5FZslqii"
      },
      "outputs": [],
      "source": [
        "import json\n",
        "from sklearn.model_selection import train_test_split\n",
        "import torch\n",
        "import io\n",
        "import torch.nn.functional as F\n",
        "import random\n",
        "import numpy as np\n",
        "import time\n",
        "import math\n",
        "import datetime\n",
        "import torch.nn as nn\n",
        "import pandas as pd\n",
        "\n",
        "from transformers import *\n",
        "from torch.utils.data import TensorDataset, DataLoader, RandomSampler, SequentialSampler\n",
        "from datasets import load_dataset"
      ]
    },
    {
      "cell_type": "markdown",
      "source": [
        "## Utility functions"
      ],
      "metadata": {
        "id": "Tj6Wy23MpCLl"
      }
    },
    {
      "cell_type": "code",
      "source": [
        "# Set random values\n",
        "seed_val = 42\n",
        "random.seed(seed_val)\n",
        "np.random.seed(seed_val)\n",
        "torch.manual_seed(seed_val)\n",
        "if torch.cuda.is_available():\n",
        "  torch.cuda.manual_seed_all(seed_val)"
      ],
      "metadata": {
        "id": "JdliPXikUQu3"
      },
      "execution_count": 3,
      "outputs": []
    },
    {
      "cell_type": "code",
      "source": [
        "device = torch.device('cuda') if torch.cuda.is_available() else torch.device('cpu')\n",
        "device"
      ],
      "metadata": {
        "colab": {
          "base_uri": "https://localhost:8080/"
        },
        "id": "TjQpweKxUU5N",
        "outputId": "8baaa984-59d4-447f-aea7-e864b9f0049b"
      },
      "execution_count": 4,
      "outputs": [
        {
          "output_type": "execute_result",
          "data": {
            "text/plain": [
              "device(type='cuda')"
            ]
          },
          "metadata": {},
          "execution_count": 4
        }
      ]
    },
    {
      "cell_type": "code",
      "source": [
        "def format_time(elapsed):\n",
        "    '''\n",
        "    Takes a time in seconds and returns a string hh:mm:ss\n",
        "    '''\n",
        "    # Round to the nearest second.\n",
        "    elapsed_rounded = int(round((elapsed)))\n",
        "    # Format as hh:mm:ss\n",
        "    return str(datetime.timedelta(seconds=elapsed_rounded))"
      ],
      "metadata": {
        "id": "MjAspE2Ywj1X"
      },
      "execution_count": 5,
      "outputs": []
    },
    {
      "cell_type": "markdown",
      "source": [
        "## Data Processing "
      ],
      "metadata": {
        "id": "53cSfHTmpE2T"
      }
    },
    {
      "cell_type": "markdown",
      "source": [
        "We are using the huggingface dataset for this exercise of seeing how well GAN-BERT performs in identifying out-of-scope examples.\n",
        "\n",
        "For the previous exercise of in-scope prediction using different variations of labeled and unlabeled data, we used the 'FULL' variant of the CLINC150 as obtained from their repository. \n",
        "However, for this exercise, we have decided to load the 'OOS+' variant from huggingface for 2 reasons:\n",
        "1. The OOS+ variant has more number of OOS examples as compared to the FULL dataset. The former contains 250 training examples whereas the latter contains only 100 training examples. \n",
        "2. The CLINC150 paper shows that the performance of BERT-base for out-of-scope prediction is the highest for the OOS+ dataset (as expected), hence we wanted to compare the performance of GAN-BERT with this best model. \n"
      ],
      "metadata": {
        "id": "YCJ8DCp50LRz"
      }
    },
    {
      "cell_type": "code",
      "source": [
        "intent_dataset = load_dataset(\"clinc_oos\",\"plus\")"
      ],
      "metadata": {
        "id": "qNYhrDzZA7uA",
        "colab": {
          "base_uri": "https://localhost:8080/",
          "height": 86,
          "referenced_widgets": [
            "69603c19ebb94c6098ac8cb128b13993",
            "3b8deef7718b4f848674a15590ab6d12",
            "8d7134789ec44ea394eab128aeb34afc",
            "0f160ffb85e54796818ae5ba1725da98",
            "a4f10cadeecb4702913f2d187f242748",
            "633b5cf1e8094b4db6b81a38f2c41338",
            "aed5938fccb8427c99ced2d4a5702d23",
            "0013fde3de7142a89d639d2ef67b5ad2",
            "0f4f4d2fe1dd4a6b9bcfc4e9c738134b",
            "c43a684d23b147378018ec95e3508abc",
            "395a2d8691e04e609c50031604637d4c"
          ]
        },
        "outputId": "343db004-e5e0-4481-e32b-aead90187490"
      },
      "execution_count": 60,
      "outputs": [
        {
          "output_type": "stream",
          "name": "stderr",
          "text": [
            "WARNING:datasets.builder:Found cached dataset clinc_oos (/root/.cache/huggingface/datasets/clinc_oos/plus/1.0.0/abcc41d382f8137f039adc747af44714941e8196e845dfbdd8ae7a7e020e6ba1)\n"
          ]
        },
        {
          "output_type": "display_data",
          "data": {
            "text/plain": [
              "  0%|          | 0/3 [00:00<?, ?it/s]"
            ],
            "application/vnd.jupyter.widget-view+json": {
              "version_major": 2,
              "version_minor": 0,
              "model_id": "69603c19ebb94c6098ac8cb128b13993"
            }
          },
          "metadata": {}
        }
      ]
    },
    {
      "cell_type": "code",
      "source": [
        "# checking an oos example & how many oos are present\n",
        "oos_texts = [sent for sent in intent_dataset['train'] if sent['intent']==42]\n",
        "print(oos_texts[14])\n",
        "print(len(oos_texts))"
      ],
      "metadata": {
        "id": "bzkrxSreBRU0",
        "colab": {
          "base_uri": "https://localhost:8080/"
        },
        "outputId": "43b75194-292b-4029-cfaf-edbba5f4c9e5"
      },
      "execution_count": 61,
      "outputs": [
        {
          "output_type": "stream",
          "name": "stdout",
          "text": [
            "{'text': 'how many planets have we discovered', 'intent': 42}\n",
            "250\n"
          ]
        }
      ]
    },
    {
      "cell_type": "markdown",
      "source": [
        "#### Tokenization"
      ],
      "metadata": {
        "id": "b3yHrqNdDGxc"
      }
    },
    {
      "cell_type": "markdown",
      "source": [
        "Using the BertTokenizer for tokenization, BertModel as the pre-trained model and BertConfig for the parameters."
      ],
      "metadata": {
        "id": "YL_MEPaRabn9"
      }
    },
    {
      "cell_type": "code",
      "source": [
        "tokenizer = BertTokenizer.from_pretrained(\"bert-base-uncased\", do_lower_case=True) "
      ],
      "metadata": {
        "id": "e-wFmxFgC_jS"
      },
      "execution_count": 62,
      "outputs": []
    },
    {
      "cell_type": "code",
      "source": [
        "# Some of the common BERT tokens\n",
        "print(tokenizer.sep_token, tokenizer.sep_token_id) # marker for ending of a sentence\n",
        "print(tokenizer.cls_token, tokenizer.cls_token_id) # start of each sentence, so BERT knows we’re doing classification\n",
        "print(tokenizer.pad_token, tokenizer.pad_token_id) # special token for padding\n",
        "print(tokenizer.unk_token, tokenizer.unk_token_id) # tokens not found in training set "
      ],
      "metadata": {
        "id": "1sdkauYEDLCV",
        "colab": {
          "base_uri": "https://localhost:8080/"
        },
        "outputId": "4349b9c6-d098-4822-c6b5-95ae548589f2"
      },
      "execution_count": 63,
      "outputs": [
        {
          "output_type": "stream",
          "name": "stdout",
          "text": [
            "[SEP] 102\n",
            "[CLS] 101\n",
            "[PAD] 0\n",
            "[UNK] 100\n"
          ]
        }
      ]
    },
    {
      "cell_type": "code",
      "source": [
        "max_length = 40\n",
        "\n",
        "def tokenize_datasets(data):\n",
        "  tokenized_datasets = {}\n",
        "  for collection in data: \n",
        "    tokenized_datasets[collection] = tokenizer(data[collection]['text'], padding='max_length', max_length = max_length, truncation=True, return_tensors='pt')\n",
        "    tokenized_datasets[collection]['intent'] = data[collection]['intent']\n",
        "\n",
        "    tokenized_datasets[collection]['tokens'] = [[\"[CLS]\"] + tokenizer.tokenize(row) + [\"[SEP]\"] for row in data[collection]['text']]\n",
        "  \n",
        "  return tokenized_datasets"
      ],
      "metadata": {
        "id": "ivx9UDKNDNeQ"
      },
      "execution_count": 64,
      "outputs": []
    },
    {
      "cell_type": "markdown",
      "source": [
        "We tokenize the dataset by converting the sentences to tokens as well as input ids. And special tokens of [CLS] and [SEP] are appending to the beginning and end of the sequence as needed by BERT. "
      ],
      "metadata": {
        "id": "HBYiFah2amks"
      }
    },
    {
      "cell_type": "code",
      "source": [
        "tokenized_datasets = tokenize_datasets(intent_dataset)"
      ],
      "metadata": {
        "id": "UAimgN-_EA7p"
      },
      "execution_count": 65,
      "outputs": []
    },
    {
      "cell_type": "code",
      "source": [
        "print(\"Tokens:\", tokenized_datasets['train']['tokens'][0])\n",
        "print(len(tokenized_datasets['train']['tokens'][0]))\n",
        "print(\"Input Ids:\", tokenized_datasets['train']['input_ids'][0])\n",
        "print(tokenized_datasets['train']['input_ids'][0].size())\n",
        "print(\"Attention Mask:\", tokenized_datasets['train']['attention_mask'][0])\n",
        "print(\"Intent:\", tokenized_datasets['train']['intent'][0])"
      ],
      "metadata": {
        "id": "EnF1TNP4EDIX",
        "colab": {
          "base_uri": "https://localhost:8080/"
        },
        "outputId": "232a5fc4-836f-4c17-f6b6-d49a84b06765"
      },
      "execution_count": 66,
      "outputs": [
        {
          "output_type": "stream",
          "name": "stdout",
          "text": [
            "Tokens: ['[CLS]', 'what', 'expression', 'would', 'i', 'use', 'to', 'say', 'i', 'love', 'you', 'if', 'i', 'were', 'an', 'italian', '[SEP]']\n",
            "17\n",
            "Input Ids: tensor([ 101, 2054, 3670, 2052, 1045, 2224, 2000, 2360, 1045, 2293, 2017, 2065,\n",
            "        1045, 2020, 2019, 3059,  102,    0,    0,    0,    0,    0,    0,    0,\n",
            "           0,    0,    0,    0,    0,    0,    0,    0,    0,    0,    0,    0,\n",
            "           0,    0,    0,    0])\n",
            "torch.Size([40])\n",
            "Attention Mask: tensor([1, 1, 1, 1, 1, 1, 1, 1, 1, 1, 1, 1, 1, 1, 1, 1, 1, 0, 0, 0, 0, 0, 0, 0,\n",
            "        0, 0, 0, 0, 0, 0, 0, 0, 0, 0, 0, 0, 0, 0, 0, 0])\n",
            "Intent: 61\n"
          ]
        }
      ]
    },
    {
      "cell_type": "code",
      "source": [
        "tokenized_datasets['train'].keys()"
      ],
      "metadata": {
        "id": "MPJ1sM52Gubr",
        "colab": {
          "base_uri": "https://localhost:8080/"
        },
        "outputId": "b27c6a0e-946b-4913-a5b6-12caf824a5c3"
      },
      "execution_count": 67,
      "outputs": [
        {
          "output_type": "execute_result",
          "data": {
            "text/plain": [
              "dict_keys(['input_ids', 'token_type_ids', 'attention_mask', 'intent', 'tokens'])"
            ]
          },
          "metadata": {},
          "execution_count": 67
        }
      ]
    },
    {
      "cell_type": "code",
      "source": [
        "# find the max sentence length for padding\n",
        "max_len = 0\n",
        "for idx, sent in enumerate(tokenized_datasets['train']['tokens']):\n",
        "  if len(sent) > max_len:\n",
        "    max_len = len(sent)\n",
        "    max_sent_idx = idx\n",
        "\n",
        "print(max_len)\n",
        "print(max_sent_idx)\n",
        "print(tokenized_datasets['train']['tokens'][max_sent_idx])"
      ],
      "metadata": {
        "id": "-j0u2JP6HVBo",
        "colab": {
          "base_uri": "https://localhost:8080/"
        },
        "outputId": "8bbe46e0-0835-42d6-f9b1-7e4515cadaab"
      },
      "execution_count": 68,
      "outputs": [
        {
          "output_type": "stream",
          "name": "stdout",
          "text": [
            "33\n",
            "4569\n",
            "['[CLS]', 'my', 'car', \"'\", 's', 'been', 'throwing', 'ce', '##ls', 'that', 'i', 'think', 'are', 'oil', 'related', ',', 'so', 'i', \"'\", 'm', 'wondering', 'if', 'it', \"'\", 's', 'time', 'to', 'take', 'it', 'in', 'or', 'not', '[SEP]']\n"
          ]
        }
      ]
    },
    {
      "cell_type": "markdown",
      "source": [
        "We look at all the sentences from the train dataset to see which is the longest sentence. This helps us perform padding for all sentences in the batch. \n",
        "Looking at the above cell, we see that the max length of a sentence is 33 hence, to round it up, 40 has been taken as the max padded length for each sequence. "
      ],
      "metadata": {
        "id": "OlNzGGBuIp3A"
      }
    },
    {
      "cell_type": "markdown",
      "source": [
        "#### Create Dataset & Dataloader"
      ],
      "metadata": {
        "id": "Vl8tx9LKI39X"
      }
    },
    {
      "cell_type": "markdown",
      "source": [
        "Since we do not have any unlabeled examples here that need to be masked in the model during inference (as done in the previous experiments), all the labels have a mask of 'True'. "
      ],
      "metadata": {
        "id": "fQlr9RP4cnsW"
      }
    },
    {
      "cell_type": "code",
      "source": [
        "label_masks_train = np.ones(len(intent_dataset['train']), dtype=bool)\n",
        "label_masks_val = np.ones(len(intent_dataset['validation']), dtype=bool)\n",
        "label_masks_test = np.ones(len(intent_dataset['test']), dtype=bool)"
      ],
      "metadata": {
        "id": "7f4Ho5utAgbR"
      },
      "execution_count": 69,
      "outputs": []
    },
    {
      "cell_type": "code",
      "source": [
        "#train dataloader\n",
        "data = TensorDataset(tokenized_datasets['train']['input_ids'], tokenized_datasets['train']['attention_mask'], \n",
        "                      torch.tensor(tokenized_datasets['train']['intent']), torch.tensor(label_masks_train))\n",
        "\n",
        "sampler = RandomSampler(data)\n",
        "\n",
        "train_dataloader = DataLoader(data, sampler = sampler, batch_size = 64)"
      ],
      "metadata": {
        "id": "tXUHHXVaU996"
      },
      "execution_count": 70,
      "outputs": []
    },
    {
      "cell_type": "code",
      "source": [
        "#val dataloader\n",
        "data = TensorDataset(tokenized_datasets['validation']['input_ids'], tokenized_datasets['validation']['attention_mask'], \n",
        "                      torch.tensor(tokenized_datasets['validation']['intent']), torch.tensor(label_masks_val))\n",
        "\n",
        "sampler = SequentialSampler(data)\n",
        "\n",
        "val_dataloader = DataLoader(data, sampler = sampler, batch_size = 64)"
      ],
      "metadata": {
        "id": "U_pj7vcIXmfF"
      },
      "execution_count": 71,
      "outputs": []
    },
    {
      "cell_type": "code",
      "source": [
        "#test dataloader\n",
        "data = TensorDataset(tokenized_datasets['test']['input_ids'], tokenized_datasets['test']['attention_mask'], \n",
        "                      torch.tensor(tokenized_datasets['test']['intent']), torch.tensor(label_masks_test))\n",
        "\n",
        "sampler = SequentialSampler(data)\n",
        "\n",
        "test_dataloader = DataLoader(data, sampler = sampler, batch_size = 64)"
      ],
      "metadata": {
        "id": "1mAZUWTfih0X"
      },
      "execution_count": 72,
      "outputs": []
    },
    {
      "cell_type": "markdown",
      "source": [
        "Each batch in the dataloader have the following components:\n",
        "1. Input Ids - converting tokens to numbers\n",
        "2. Attention Masks - assigning a mask of 1 for [CLS], [SEP] and tokens, and 0 for all [PAD] tokens.\n",
        "3. Label - intent as a number \n",
        "4. Label Mask - mask of 0 for unlabeled data and 1 for labeled data. "
      ],
      "metadata": {
        "id": "CAKJj52ZdFJj"
      }
    },
    {
      "cell_type": "markdown",
      "source": [
        "## Building the Model"
      ],
      "metadata": {
        "id": "p0r3sGdQdzMy"
      }
    },
    {
      "cell_type": "code",
      "source": [
        "# BERT\n",
        "transformer =  BertModel.from_pretrained(\"bert-base-uncased\")"
      ],
      "metadata": {
        "id": "P0hcfDZPOYkn"
      },
      "execution_count": 73,
      "outputs": []
    },
    {
      "cell_type": "code",
      "source": [
        "#Generator\n",
        "\n",
        "class Generator(nn.Module):\n",
        "    def __init__(self, noise_size, output_size, hidden_sizes, dropout_rate):\n",
        "        super(Generator, self).__init__()\n",
        "        layers = []\n",
        "        hidden_sizes = [noise_size] + hidden_sizes\n",
        "        for i in range(len(hidden_sizes)-1):\n",
        "            layers.extend([nn.Linear(hidden_sizes[i], hidden_sizes[i+1]), nn.LeakyReLU(0.2, inplace=True), nn.Dropout(dropout_rate)])\n",
        "\n",
        "        layers.append(nn.Linear(hidden_sizes[-1],output_size))\n",
        "        self.layers = nn.Sequential(*layers)\n",
        "\n",
        "    def forward(self, noise):\n",
        "        output_rep = self.layers(noise)\n",
        "        return output_rep"
      ],
      "metadata": {
        "id": "oD_-wMT0d_vz"
      },
      "execution_count": 74,
      "outputs": []
    },
    {
      "cell_type": "code",
      "source": [
        "# Discriminator\n",
        "\n",
        "class Discriminator(nn.Module):\n",
        "    def __init__(self, input_size, hidden_sizes, num_labels, dropout_rate):\n",
        "        super(Discriminator, self).__init__()\n",
        "        self.input_dropout = nn.Dropout(p=dropout_rate)\n",
        "        layers = []\n",
        "        hidden_sizes = [input_size] + hidden_sizes\n",
        "        for i in range(len(hidden_sizes)-1):\n",
        "            layers.extend([nn.Linear(hidden_sizes[i], hidden_sizes[i+1]), nn.LeakyReLU(0.2, inplace=True), nn.Dropout(dropout_rate)])\n",
        "\n",
        "        self.layers = nn.Sequential(*layers) #per il flatten\n",
        "        self.logit = nn.Linear(hidden_sizes[-1],num_labels+1) # +1 for the probability of this sample being fake/real.\n",
        "        self.softmax = nn.Softmax(dim=-1)\n",
        "\n",
        "    def forward(self, input_rep):\n",
        "        input_rep = self.input_dropout(input_rep)\n",
        "        last_rep = self.layers(input_rep)\n",
        "        logits = self.logit(last_rep)\n",
        "        probs = self.softmax(logits)\n",
        "        return last_rep, logits, probs"
      ],
      "metadata": {
        "id": "xeIbz8kIeGXz"
      },
      "execution_count": 75,
      "outputs": []
    },
    {
      "cell_type": "code",
      "source": [
        "noise_size = 100\n",
        "config = BertConfig.from_pretrained(\"bert-base-uncased\")\n",
        "hidden_size = config.hidden_size # BERT outputs a 768 embedding vector\n",
        "num_hidden_layers_gen = 1\n",
        "hidden_levels_gen = [hidden_size for i in range(0, num_hidden_layers_gen)]\n",
        "num_hidden_layers_disc = 1\n",
        "hidden_levels_disc = [hidden_size for i in range(0, num_hidden_layers_disc)]\n",
        "\n",
        "# dropout to be applied to discriminator's input vectors\n",
        "out_dropout_rate = 0.2\n",
        "\n",
        "intents = [sent['intent'] for sent in intent_dataset['train']]\n",
        "num_labels = len(set(intents))\n",
        "\n",
        "generator = Generator(noise_size=noise_size, #100\n",
        "                      output_size=hidden_size, #768\n",
        "                      hidden_sizes=hidden_levels_gen, #[768] \n",
        "                      dropout_rate=out_dropout_rate) #0.2\n",
        "\n",
        "discriminator = Discriminator(input_size=hidden_size, #768\n",
        "                              hidden_sizes=hidden_levels_disc, #[768]\n",
        "                              num_labels=num_labels, #150 + 1oos\n",
        "                              dropout_rate=out_dropout_rate) #0.2\n"
      ],
      "metadata": {
        "id": "apkWunKpF5ql"
      },
      "execution_count": 76,
      "outputs": []
    },
    {
      "cell_type": "code",
      "source": [
        "# input dim - 100x768\n",
        "# output dim - 768x768\n",
        "generator"
      ],
      "metadata": {
        "colab": {
          "base_uri": "https://localhost:8080/"
        },
        "id": "bTkVAX72N4jO",
        "outputId": "aef846cb-e75a-4217-c5a6-0c959dbea97c"
      },
      "execution_count": 77,
      "outputs": [
        {
          "output_type": "execute_result",
          "data": {
            "text/plain": [
              "Generator(\n",
              "  (layers): Sequential(\n",
              "    (0): Linear(in_features=100, out_features=768, bias=True)\n",
              "    (1): LeakyReLU(negative_slope=0.2, inplace=True)\n",
              "    (2): Dropout(p=0.2, inplace=False)\n",
              "    (3): Linear(in_features=768, out_features=768, bias=True)\n",
              "  )\n",
              ")"
            ]
          },
          "metadata": {},
          "execution_count": 77
        }
      ]
    },
    {
      "cell_type": "code",
      "source": [
        "# input dim - 768x768\n",
        "# output dim - 768x152\n",
        "discriminator  "
      ],
      "metadata": {
        "colab": {
          "base_uri": "https://localhost:8080/"
        },
        "id": "SsBxCphHN8V4",
        "outputId": "7b7aa77e-82c9-4dcf-d602-a149a616960b"
      },
      "execution_count": 78,
      "outputs": [
        {
          "output_type": "execute_result",
          "data": {
            "text/plain": [
              "Discriminator(\n",
              "  (input_dropout): Dropout(p=0.2, inplace=False)\n",
              "  (layers): Sequential(\n",
              "    (0): Linear(in_features=768, out_features=768, bias=True)\n",
              "    (1): LeakyReLU(negative_slope=0.2, inplace=True)\n",
              "    (2): Dropout(p=0.2, inplace=False)\n",
              "  )\n",
              "  (logit): Linear(in_features=768, out_features=152, bias=True)\n",
              "  (softmax): Softmax(dim=-1)\n",
              ")"
            ]
          },
          "metadata": {},
          "execution_count": 78
        }
      ]
    },
    {
      "cell_type": "code",
      "source": [
        "# input dim - 30522x768\n",
        "# output dim - 768x768\n",
        "transformer "
      ],
      "metadata": {
        "id": "juw-fYOCOzSb"
      },
      "execution_count": null,
      "outputs": []
    },
    {
      "cell_type": "code",
      "source": [
        "multi_gpu = True\n",
        "if torch.cuda.is_available():    \n",
        "  generator.cuda()\n",
        "  discriminator.cuda()\n",
        "  transformer.cuda()\n",
        "  if multi_gpu:\n",
        "    transformer = torch.nn.DataParallel(transformer)"
      ],
      "metadata": {
        "id": "bqaGXwp7UCvj"
      },
      "execution_count": 80,
      "outputs": []
    },
    {
      "cell_type": "code",
      "source": [
        "#models parameters\n",
        "transformer_vars = [i for i in transformer.parameters()]\n",
        "d_vars = transformer_vars + [v for v in discriminator.parameters()]\n",
        "g_vars = [v for v in generator.parameters()]\n",
        "\n",
        "learning_rate_generator = 5e-5\n",
        "learning_rate_discriminator = 5e-5\n",
        "\n",
        "#optimizer\n",
        "dis_optimizer = torch.optim.AdamW(d_vars, lr=learning_rate_discriminator)\n",
        "gen_optimizer = torch.optim.AdamW(g_vars, lr=learning_rate_generator) "
      ],
      "metadata": {
        "id": "oC7NdupTUSq3"
      },
      "execution_count": 81,
      "outputs": []
    },
    {
      "cell_type": "code",
      "source": [
        "#scheduler\n",
        "apply_scheduler = False\n",
        "batch_size = 64\n",
        "num_epochs = 10\n",
        "warmup_proportion = 0.1\n",
        "\n",
        "if apply_scheduler:\n",
        "  num_train_examples = len(intent_dataset['train'])\n",
        "  num_train_steps = int(num_train_examples / batch_size * num_epochs)\n",
        "  num_warmup_steps = int(num_train_steps * warmup_proportion)\n",
        "\n",
        "  scheduler_d = get_constant_schedule_with_warmup(dis_optimizer, \n",
        "                                           num_warmup_steps = num_warmup_steps)\n",
        "  scheduler_g = get_constant_schedule_with_warmup(gen_optimizer, \n",
        "                                           num_warmup_steps = num_warmup_steps)"
      ],
      "metadata": {
        "id": "v96GTfibVs7M"
      },
      "execution_count": 82,
      "outputs": []
    },
    {
      "cell_type": "markdown",
      "source": [
        "## Training & Evaluation"
      ],
      "metadata": {
        "id": "Rn4H3BUqkLlk"
      }
    },
    {
      "cell_type": "code",
      "source": [
        "training_stats = []\n",
        "train_gen_loss_history = []\n",
        "train_disc_loss_history = []\n",
        "val_loss_history = []\n",
        "val_accuracies = []\n",
        "predictions = []\n",
        "gold_labels = []\n",
        "\n",
        "for epoch in range(num_epochs):\n",
        "  print(\"\")\n",
        "  print('======== Epoch {:} / {:} ========'.format(epoch + 1, num_epochs))\n",
        "  print('Training...')\n",
        "\n",
        "  t0 = time.time()\n",
        "\n",
        "  # loss for each epoch\n",
        "  tr_g_loss = 0\n",
        "  tr_d_loss = 0\n",
        "\n",
        "  transformer.train()\n",
        "  generator.train()\n",
        "  discriminator.train()\n",
        "\n",
        "  # for idx, batch in enumerate(data_loaders['train']):\n",
        "  for idx, batch in enumerate(train_dataloader):\n",
        "\n",
        "    # Progress update every print_each_n_step batches.\n",
        "    if idx % 40 == 0 and not idx == 0:\n",
        "        # Calculate elapsed time in minutes.\n",
        "        elapsed = format_time(time.time() - t0)\n",
        "        \n",
        "        # Report progress.\n",
        "        print('  Batch {:>5,}  of  {:>5,}.    Elapsed: {:}.'.format(idx, len(train_dataloader), elapsed))\n",
        "\n",
        "    b_input_ids = batch[0].to(device) #tensor of input ids of that batch\n",
        "    b_input_mask = batch[1].to(device)\n",
        "    b_labels = batch[2].to(device)\n",
        "    b_label_mask = batch[3].to(device)\n",
        "\n",
        "    real_batch_size = b_input_ids.shape[0] \n",
        "    # print('real_batch_size: ', real_batch_size) #size of each batch = 32\n",
        "\n",
        "    model_outputs = transformer(b_input_ids, attention_mask=b_input_mask)\n",
        "    hidden_states = model_outputs[-1]\n",
        "    # print('hidden states', hidden_states.size()) #32x768 - 768 per sentence in batch\n",
        "\n",
        "    noise = torch.zeros(real_batch_size, noise_size, device=device).uniform_(0, 1)\n",
        "    # print('noise', noise.size()) # 32x100 - 100 per sentence in batch \n",
        "    gen_rep = generator(noise)\n",
        "    # print('gen output', gen_rep.size()) #32x768 \n",
        "    # both transformer + gen output are 768 size\n",
        "\n",
        "    disciminator_input = torch.cat([hidden_states, gen_rep], dim=0)\n",
        "    # print('disc input', disciminator_input.size()) # 64x768\n",
        "    features, logits, probs = discriminator(disciminator_input)\n",
        "\n",
        "    features_list = torch.split(features, real_batch_size) #split 64x768 into 32,32\n",
        "    D_real_features = features_list[0]\n",
        "    D_fake_features = features_list[1] \n",
        "\n",
        "    logits_list = torch.split(logits, real_batch_size)\n",
        "    D_real_logits = logits_list[0]\n",
        "    D_fake_logits = logits_list[1]  \n",
        "\n",
        "    probs_list = torch.split(probs, real_batch_size)\n",
        "    D_real_probs = probs_list[0]\n",
        "    D_fake_probs = probs_list[1]\n",
        "\n",
        "    #loss\n",
        "\n",
        "    #gen loss\n",
        "    g_loss_d = -1 * torch.mean(torch.log(1 - D_fake_probs[:,-1] + 1e-8))\n",
        "    g_feat_reg = torch.mean(torch.pow(torch.mean(D_real_features, dim=0) - torch.mean(D_fake_features, dim=0), 2))\n",
        "    g_loss = g_loss_d + g_feat_reg\n",
        "\n",
        "    #disc loss\n",
        "    logits = D_real_logits[:,0:-1]\n",
        "    log_probs = F.log_softmax(logits, dim=-1)\n",
        "\n",
        "    label2one_hot = torch.nn.functional.one_hot(b_labels, 151)\n",
        "    per_example_loss = -torch.sum(label2one_hot * log_probs, dim=-1)\n",
        "    per_example_loss = torch.masked_select(per_example_loss, b_label_mask.to(device))\n",
        "    labeled_example_count = per_example_loss.type(torch.float32).numel()\n",
        "\n",
        "    if labeled_example_count == 0:\n",
        "      D_L_Supervised = 0\n",
        "    else:\n",
        "      D_L_Supervised = torch.div(torch.sum(per_example_loss.to(device)), labeled_example_count)\n",
        "\n",
        "    D_L_unsupervised1U = -1 * torch.mean(torch.log(1 - D_real_probs[:, -1] + 1e-8))\n",
        "    D_L_unsupervised2U = -1 * torch.mean(torch.log(D_fake_probs[:, -1] + 1e-8))\n",
        "    d_loss = D_L_Supervised + D_L_unsupervised1U + D_L_unsupervised2U\n",
        "\n",
        "    #optimization\n",
        "    gen_optimizer.zero_grad()\n",
        "    dis_optimizer.zero_grad()\n",
        "\n",
        "    g_loss.backward(retain_graph=True)\n",
        "    d_loss.backward()\n",
        "\n",
        "    gen_optimizer.step()\n",
        "    dis_optimizer.step()\n",
        "\n",
        "    tr_g_loss += g_loss.item()\n",
        "    tr_d_loss += d_loss.item()\n",
        "\n",
        "    if apply_scheduler:\n",
        "      scheduler_d.step()\n",
        "      scheduler_g.step()\n",
        "\n",
        "  avg_train_loss_g = tr_g_loss / len(train_dataloader)\n",
        "  avg_train_loss_d = tr_d_loss / len(train_dataloader)\n",
        "  \n",
        "  training_time = format_time(time.time() - t0)\n",
        "\n",
        "  print(\"\")\n",
        "  print(\"  Average training loss generator: {0:.3f}\".format(avg_train_loss_g))\n",
        "  print(\"  Average training loss discriminator: {0:.3f}\".format(avg_train_loss_d))\n",
        "  print(\"  Training epoch took: {:}\".format(training_time))\n",
        "  train_gen_loss_history.append(avg_train_loss_g)\n",
        "  train_disc_loss_history.append(avg_train_loss_d)\n",
        "\n",
        "  #EVALUATION\n",
        "\n",
        "  print(\"\")\n",
        "  print(\"Running validation...\")\n",
        "\n",
        "  t0 = time.time()\n",
        "\n",
        "  transformer.eval() \n",
        "  discriminator.eval()\n",
        "  generator.eval()\n",
        "\n",
        "  total_test_accuracy = 0\n",
        "   \n",
        "  total_test_loss = 0\n",
        "  nb_test_steps = 0\n",
        "\n",
        "  all_preds = []\n",
        "  all_labels_ids = []\n",
        "\n",
        "  #loss\n",
        "  nll_loss = torch.nn.CrossEntropyLoss(ignore_index=-1)\n",
        "\n",
        "  # for batch in data_loaders['validation']:\n",
        "  for idx, batch in enumerate(val_dataloader):\n",
        "    b_input_ids = batch[0].to(device)\n",
        "    b_input_mask = batch[1].to(device)\n",
        "    b_labels = batch[2].to(device)\n",
        "\n",
        "    with torch.no_grad():        \n",
        "        model_outputs = transformer(b_input_ids, attention_mask=b_input_mask)\n",
        "        hidden_states = model_outputs[-1]\n",
        "        _, logits, probs = discriminator(hidden_states)\n",
        "        ###log_probs = F.log_softmax(probs[:,1:], dim=-1)\n",
        "        filtered_logits = logits[:,0:-1]\n",
        "        # Accumulate the test loss.\n",
        "        total_test_loss += nll_loss(filtered_logits, b_labels)\n",
        "\n",
        "    # Accumulate the predictions and the input labels\n",
        "    _, preds = torch.max(filtered_logits, 1)\n",
        "    all_preds += preds.detach().cpu()\n",
        "    all_labels_ids += b_labels.detach().cpu()\n",
        "\n",
        "\n",
        "  # Report the final accuracy for this validation run.\n",
        "  all_preds = torch.stack(all_preds).numpy()\n",
        "  all_labels_ids = torch.stack(all_labels_ids).numpy()\n",
        "\n",
        "  predictions.extend(all_preds)\n",
        "  gold_labels.extend(all_labels_ids)\n",
        "\n",
        "  test_accuracy = np.sum(all_preds == all_labels_ids) / len(all_preds)\n",
        "  print(\"  Accuracy: {0:.3f}\".format(test_accuracy))\n",
        "  val_accuracies.append(test_accuracy)\n",
        "\n",
        "  # Calculate the average loss over all of the batches.\n",
        "  avg_test_loss = total_test_loss / len(val_dataloader)\n",
        "  avg_test_loss = avg_test_loss.item()\n",
        "\n",
        "  test_time = format_time(time.time() - t0)\n",
        "    \n",
        "  print(\"  Test Loss: {0:.3f}\".format(avg_test_loss))\n",
        "  print(\"  Test took: {:}\".format(test_time))\n",
        "  val_loss_history.append(avg_test_loss)\n",
        "\n",
        "  training_stats.append(\n",
        "        {\n",
        "            'epoch': epoch + 1,\n",
        "            'Training Loss generator': avg_train_loss_g,\n",
        "            'Training Loss discriminator': avg_train_loss_d,\n",
        "            'Valid. Loss': avg_test_loss,\n",
        "            'Valid. Accur.': test_accuracy,\n",
        "            'Training Time': training_time,\n",
        "            'Test Time': test_time\n",
        "        }\n",
        "    )\n",
        "\n"
      ],
      "metadata": {
        "colab": {
          "base_uri": "https://localhost:8080/"
        },
        "id": "NwzIwRaCWOiK",
        "outputId": "eb9e7705-5a87-4d16-f9a3-878671678406"
      },
      "execution_count": 83,
      "outputs": [
        {
          "output_type": "stream",
          "name": "stdout",
          "text": [
            "\n",
            "======== Epoch 1 / 10 ========\n",
            "Training...\n",
            "  Batch    40  of    239.    Elapsed: 0:00:23.\n",
            "  Batch    80  of    239.    Elapsed: 0:00:47.\n",
            "  Batch   120  of    239.    Elapsed: 0:01:11.\n",
            "  Batch   160  of    239.    Elapsed: 0:01:36.\n",
            "  Batch   200  of    239.    Elapsed: 0:02:00.\n",
            "\n",
            "  Average training loss generator: 0.679\n",
            "  Average training loss discriminator: 5.190\n",
            "  Training epoch took: 0:02:24\n",
            "\n",
            "Running validation...\n",
            "  Accuracy: 0.619\n",
            "  Test Loss: 2.627\n",
            "  Test took: 0:00:06\n",
            "\n",
            "======== Epoch 2 / 10 ========\n",
            "Training...\n",
            "  Batch    40  of    239.    Elapsed: 0:00:25.\n",
            "  Batch    80  of    239.    Elapsed: 0:00:49.\n",
            "  Batch   120  of    239.    Elapsed: 0:01:14.\n",
            "  Batch   160  of    239.    Elapsed: 0:01:38.\n",
            "  Batch   200  of    239.    Elapsed: 0:02:03.\n",
            "\n",
            "  Average training loss generator: 0.778\n",
            "  Average training loss discriminator: 2.410\n",
            "  Training epoch took: 0:02:26\n",
            "\n",
            "Running validation...\n",
            "  Accuracy: 0.882\n",
            "  Test Loss: 0.939\n",
            "  Test took: 0:00:06\n",
            "\n",
            "======== Epoch 3 / 10 ========\n",
            "Training...\n",
            "  Batch    40  of    239.    Elapsed: 0:00:25.\n",
            "  Batch    80  of    239.    Elapsed: 0:00:49.\n",
            "  Batch   120  of    239.    Elapsed: 0:01:14.\n",
            "  Batch   160  of    239.    Elapsed: 0:01:38.\n",
            "  Batch   200  of    239.    Elapsed: 0:02:03.\n",
            "\n",
            "  Average training loss generator: 0.753\n",
            "  Average training loss discriminator: 1.276\n",
            "  Training epoch took: 0:02:26\n",
            "\n",
            "Running validation...\n",
            "  Accuracy: 0.937\n",
            "  Test Loss: 0.461\n",
            "  Test took: 0:00:06\n",
            "\n",
            "======== Epoch 4 / 10 ========\n",
            "Training...\n",
            "  Batch    40  of    239.    Elapsed: 0:00:25.\n",
            "  Batch    80  of    239.    Elapsed: 0:00:49.\n",
            "  Batch   120  of    239.    Elapsed: 0:01:14.\n",
            "  Batch   160  of    239.    Elapsed: 0:01:38.\n",
            "  Batch   200  of    239.    Elapsed: 0:02:03.\n",
            "\n",
            "  Average training loss generator: 0.737\n",
            "  Average training loss discriminator: 0.932\n",
            "  Training epoch took: 0:02:26\n",
            "\n",
            "Running validation...\n",
            "  Accuracy: 0.942\n",
            "  Test Loss: 0.348\n",
            "  Test took: 0:00:06\n",
            "\n",
            "======== Epoch 5 / 10 ========\n",
            "Training...\n",
            "  Batch    40  of    239.    Elapsed: 0:00:25.\n",
            "  Batch    80  of    239.    Elapsed: 0:00:49.\n",
            "  Batch   120  of    239.    Elapsed: 0:01:14.\n",
            "  Batch   160  of    239.    Elapsed: 0:01:38.\n",
            "  Batch   200  of    239.    Elapsed: 0:02:03.\n",
            "\n",
            "  Average training loss generator: 0.733\n",
            "  Average training loss discriminator: 0.812\n",
            "  Training epoch took: 0:02:27\n",
            "\n",
            "Running validation...\n",
            "  Accuracy: 0.948\n",
            "  Test Loss: 0.322\n",
            "  Test took: 0:00:06\n",
            "\n",
            "======== Epoch 6 / 10 ========\n",
            "Training...\n",
            "  Batch    40  of    239.    Elapsed: 0:00:25.\n",
            "  Batch    80  of    239.    Elapsed: 0:00:49.\n",
            "  Batch   120  of    239.    Elapsed: 0:01:14.\n",
            "  Batch   160  of    239.    Elapsed: 0:01:38.\n",
            "  Batch   200  of    239.    Elapsed: 0:02:03.\n",
            "\n",
            "  Average training loss generator: 0.731\n",
            "  Average training loss discriminator: 0.772\n",
            "  Training epoch took: 0:02:27\n",
            "\n",
            "Running validation...\n",
            "  Accuracy: 0.945\n",
            "  Test Loss: 0.319\n",
            "  Test took: 0:00:06\n",
            "\n",
            "======== Epoch 7 / 10 ========\n",
            "Training...\n",
            "  Batch    40  of    239.    Elapsed: 0:00:25.\n",
            "  Batch    80  of    239.    Elapsed: 0:00:49.\n",
            "  Batch   120  of    239.    Elapsed: 0:01:14.\n",
            "  Batch   160  of    239.    Elapsed: 0:01:38.\n",
            "  Batch   200  of    239.    Elapsed: 0:02:03.\n",
            "\n",
            "  Average training loss generator: 0.729\n",
            "  Average training loss discriminator: 0.754\n",
            "  Training epoch took: 0:02:26\n",
            "\n",
            "Running validation...\n",
            "  Accuracy: 0.939\n",
            "  Test Loss: 0.347\n",
            "  Test took: 0:00:06\n",
            "\n",
            "======== Epoch 8 / 10 ========\n",
            "Training...\n",
            "  Batch    40  of    239.    Elapsed: 0:00:25.\n",
            "  Batch    80  of    239.    Elapsed: 0:00:49.\n",
            "  Batch   120  of    239.    Elapsed: 0:01:14.\n",
            "  Batch   160  of    239.    Elapsed: 0:01:38.\n",
            "  Batch   200  of    239.    Elapsed: 0:02:03.\n",
            "\n",
            "  Average training loss generator: 0.730\n",
            "  Average training loss discriminator: 0.744\n",
            "  Training epoch took: 0:02:27\n",
            "\n",
            "Running validation...\n",
            "  Accuracy: 0.953\n",
            "  Test Loss: 0.279\n",
            "  Test took: 0:00:06\n",
            "\n",
            "======== Epoch 9 / 10 ========\n",
            "Training...\n",
            "  Batch    40  of    239.    Elapsed: 0:00:25.\n",
            "  Batch    80  of    239.    Elapsed: 0:00:49.\n",
            "  Batch   120  of    239.    Elapsed: 0:01:14.\n",
            "  Batch   160  of    239.    Elapsed: 0:01:38.\n",
            "  Batch   200  of    239.    Elapsed: 0:02:03.\n",
            "\n",
            "  Average training loss generator: 0.726\n",
            "  Average training loss discriminator: 0.740\n",
            "  Training epoch took: 0:02:26\n",
            "\n",
            "Running validation...\n",
            "  Accuracy: 0.944\n",
            "  Test Loss: 0.329\n",
            "  Test took: 0:00:06\n",
            "\n",
            "======== Epoch 10 / 10 ========\n",
            "Training...\n",
            "  Batch    40  of    239.    Elapsed: 0:00:25.\n",
            "  Batch    80  of    239.    Elapsed: 0:00:49.\n",
            "  Batch   120  of    239.    Elapsed: 0:01:14.\n",
            "  Batch   160  of    239.    Elapsed: 0:01:38.\n",
            "  Batch   200  of    239.    Elapsed: 0:02:03.\n",
            "\n",
            "  Average training loss generator: 0.728\n",
            "  Average training loss discriminator: 0.736\n",
            "  Training epoch took: 0:02:27\n",
            "\n",
            "Running validation...\n",
            "  Accuracy: 0.941\n",
            "  Test Loss: 0.372\n",
            "  Test took: 0:00:06\n"
          ]
        }
      ]
    },
    {
      "cell_type": "markdown",
      "source": [
        "## Testing"
      ],
      "metadata": {
        "id": "RnXPbu7bkN1P"
      }
    },
    {
      "cell_type": "code",
      "source": [
        "print(\"\")\n",
        "print(\"Running test...\")\n",
        "\n",
        "t0 = time.time()\n",
        "\n",
        "transformer.eval() \n",
        "discriminator.eval()\n",
        "generator.eval()\n",
        "\n",
        "total_test_accuracy = 0\n",
        "  \n",
        "total_test_loss = 0\n",
        "nb_test_steps = 0\n",
        "\n",
        "all_preds = []\n",
        "all_labels_ids = []\n",
        "\n",
        "#loss\n",
        "nll_loss = torch.nn.CrossEntropyLoss(ignore_index=-1)\n",
        "\n",
        "# for batch in data_loaders['validation']:\n",
        "for idx, batch in enumerate(test_dataloader):\n",
        "  b_input_ids = batch[0].to(device)\n",
        "  b_input_mask = batch[1].to(device)\n",
        "  b_labels = batch[2].to(device)\n",
        "\n",
        "  with torch.no_grad():        \n",
        "      model_outputs = transformer(b_input_ids, attention_mask=b_input_mask)\n",
        "      hidden_states = model_outputs[-1]\n",
        "      _, logits, probs = discriminator(hidden_states)\n",
        "      ###log_probs = F.log_softmax(probs[:,1:], dim=-1)\n",
        "      filtered_logits = logits[:,0:-1]\n",
        "      # Accumulate the test loss.\n",
        "      total_test_loss += nll_loss(filtered_logits, b_labels)\n",
        "\n",
        "  # Accumulate the predictions and the input labels\n",
        "  _, preds = torch.max(filtered_logits, 1)\n",
        "  all_preds += preds.detach().cpu()\n",
        "  all_labels_ids += b_labels.detach().cpu()\n",
        "\n",
        "\n",
        "# Report the final accuracy for this validation run.\n",
        "all_preds = torch.stack(all_preds).numpy()\n",
        "all_labels_ids = torch.stack(all_labels_ids).numpy()\n",
        "test_accuracy = np.sum(all_preds == all_labels_ids) / len(all_preds)\n",
        "print(\"  Accuracy: {0:.3f}\".format(test_accuracy))\n",
        "\n",
        "# Calculate the average loss over all of the batches.\n",
        "avg_test_loss = total_test_loss / len(test_dataloader)\n",
        "avg_test_loss = avg_test_loss.item()\n",
        "\n",
        "test_time = format_time(time.time() - t0)\n",
        "  \n",
        "print(\"  Test Loss: {0:.3f}\".format(avg_test_loss))\n",
        "print(\"  Test took: {:}\".format(test_time))"
      ],
      "metadata": {
        "colab": {
          "base_uri": "https://localhost:8080/"
        },
        "id": "_rBWWVtyiPDP",
        "outputId": "3ecf322f-725b-45fd-b391-678ab30ede99"
      },
      "execution_count": 84,
      "outputs": [
        {
          "output_type": "stream",
          "name": "stdout",
          "text": [
            "\n",
            "Running test...\n",
            "  Accuracy: 0.875\n",
            "  Test Loss: 0.618\n",
            "  Test took: 0:00:10\n"
          ]
        }
      ]
    },
    {
      "cell_type": "markdown",
      "source": [
        "## Results"
      ],
      "metadata": {
        "id": "YsFFriPxGOtO"
      }
    },
    {
      "cell_type": "code",
      "source": [
        "# checking precision, recall, f1 scores\n",
        "from sklearn.metrics import classification_report\n",
        "print(classification_report(gold_labels, predictions))"
      ],
      "metadata": {
        "colab": {
          "base_uri": "https://localhost:8080/"
        },
        "id": "-fDuqqenFxMd",
        "outputId": "7ea51a5b-58ab-4590-ed00-6bb1e4de8db9"
      },
      "execution_count": 85,
      "outputs": [
        {
          "output_type": "stream",
          "name": "stdout",
          "text": [
            "              precision    recall  f1-score   support\n",
            "\n",
            "           0       0.96      0.84      0.90       200\n",
            "           1       0.78      0.76      0.77       200\n",
            "           2       0.93      0.83      0.88       200\n",
            "           3       0.95      0.96      0.96       200\n",
            "           4       0.91      0.94      0.93       200\n",
            "           5       0.93      0.96      0.94       200\n",
            "           6       0.97      0.82      0.89       200\n",
            "           7       0.95      0.98      0.97       200\n",
            "           8       0.90      0.94      0.92       200\n",
            "           9       0.72      0.94      0.82       200\n",
            "          10       0.90      0.90      0.90       200\n",
            "          11       0.86      0.80      0.83       200\n",
            "          12       0.90      0.96      0.93       200\n",
            "          13       0.97      0.83      0.89       200\n",
            "          14       0.87      1.00      0.93       200\n",
            "          15       0.95      0.94      0.95       200\n",
            "          16       0.97      0.76      0.85       200\n",
            "          17       0.93      0.92      0.92       200\n",
            "          18       0.92      0.97      0.95       200\n",
            "          19       0.94      0.95      0.95       200\n",
            "          20       0.79      0.97      0.87       200\n",
            "          21       1.00      0.92      0.96       200\n",
            "          22       0.91      0.90      0.91       200\n",
            "          23       0.96      0.66      0.78       200\n",
            "          24       0.96      0.95      0.95       200\n",
            "          25       0.97      0.95      0.96       200\n",
            "          26       0.99      0.84      0.91       200\n",
            "          27       0.92      0.85      0.88       200\n",
            "          28       0.89      0.79      0.84       200\n",
            "          29       0.84      1.00      0.91       200\n",
            "          30       0.83      0.88      0.85       200\n",
            "          31       0.92      0.87      0.89       200\n",
            "          32       0.98      0.94      0.96       200\n",
            "          33       0.98      1.00      0.99       200\n",
            "          34       0.93      1.00      0.96       200\n",
            "          35       0.99      0.81      0.89       200\n",
            "          36       0.95      1.00      0.98       200\n",
            "          37       0.91      0.92      0.91       200\n",
            "          38       0.93      0.98      0.96       200\n",
            "          39       0.87      1.00      0.93       200\n",
            "          40       1.00      0.90      0.95       200\n",
            "          41       0.92      0.86      0.89       200\n",
            "          42       0.86      0.65      0.74      1000\n",
            "          43       0.90      0.82      0.86       200\n",
            "          44       0.96      0.71      0.82       200\n",
            "          45       0.99      1.00      1.00       200\n",
            "          46       0.92      0.94      0.93       200\n",
            "          47       0.96      1.00      0.98       200\n",
            "          48       0.72      0.85      0.78       200\n",
            "          49       0.91      0.99      0.95       200\n",
            "          50       0.78      1.00      0.88       200\n",
            "          51       0.98      0.80      0.88       200\n",
            "          52       0.99      1.00      1.00       200\n",
            "          53       0.97      0.88      0.92       200\n",
            "          54       0.90      0.87      0.88       200\n",
            "          55       0.91      0.80      0.85       200\n",
            "          56       0.89      0.92      0.90       200\n",
            "          57       1.00      1.00      1.00       200\n",
            "          58       0.92      0.94      0.93       200\n",
            "          59       0.96      1.00      0.98       200\n",
            "          60       0.71      0.90      0.79       200\n",
            "          61       0.98      0.91      0.94       200\n",
            "          62       0.96      0.99      0.98       200\n",
            "          63       1.00      1.00      1.00       200\n",
            "          64       0.97      1.00      0.99       200\n",
            "          65       0.80      0.82      0.81       200\n",
            "          66       0.97      1.00      0.99       200\n",
            "          67       0.98      0.88      0.92       200\n",
            "          68       0.87      0.80      0.83       200\n",
            "          69       0.77      0.91      0.83       200\n",
            "          70       0.99      0.84      0.91       200\n",
            "          71       0.92      0.85      0.89       200\n",
            "          72       0.96      0.88      0.92       200\n",
            "          73       0.98      0.90      0.94       200\n",
            "          74       0.96      0.95      0.96       200\n",
            "          75       0.97      0.78      0.86       200\n",
            "          76       0.89      0.74      0.81       200\n",
            "          77       0.88      0.94      0.91       200\n",
            "          78       0.96      0.92      0.94       200\n",
            "          79       0.96      0.80      0.87       200\n",
            "          80       0.94      1.00      0.97       200\n",
            "          81       0.99      0.99      0.99       200\n",
            "          82       0.92      0.86      0.89       200\n",
            "          83       0.92      1.00      0.96       200\n",
            "          84       0.95      0.76      0.84       200\n",
            "          85       0.87      0.86      0.87       200\n",
            "          86       0.94      0.90      0.92       200\n",
            "          87       0.80      0.90      0.84       200\n",
            "          88       0.97      0.93      0.95       200\n",
            "          89       0.99      1.00      1.00       200\n",
            "          90       0.71      0.86      0.78       200\n",
            "          91       0.84      0.76      0.80       200\n",
            "          92       1.00      1.00      1.00       200\n",
            "          93       0.77      0.92      0.84       200\n",
            "          94       0.85      0.99      0.92       200\n",
            "          95       0.89      0.99      0.94       200\n",
            "          96       0.93      0.95      0.94       200\n",
            "          97       0.93      0.97      0.95       200\n",
            "          98       1.00      1.00      1.00       200\n",
            "          99       0.94      0.92      0.93       200\n",
            "         100       0.92      0.94      0.93       200\n",
            "         101       0.93      0.81      0.87       200\n",
            "         102       0.92      0.90      0.91       200\n",
            "         103       0.88      0.89      0.88       200\n",
            "         104       0.86      0.98      0.92       200\n",
            "         105       0.93      0.79      0.86       200\n",
            "         106       0.89      0.94      0.91       200\n",
            "         107       0.94      0.81      0.87       200\n",
            "         108       0.92      0.93      0.92       200\n",
            "         109       0.99      0.85      0.92       200\n",
            "         110       0.94      0.90      0.92       200\n",
            "         111       0.96      0.87      0.91       200\n",
            "         112       0.88      0.99      0.93       200\n",
            "         113       0.94      1.00      0.97       200\n",
            "         114       0.85      0.85      0.85       200\n",
            "         115       0.77      0.94      0.85       200\n",
            "         116       0.95      0.97      0.96       200\n",
            "         117       0.96      0.97      0.97       200\n",
            "         118       0.95      0.99      0.97       200\n",
            "         119       1.00      0.99      0.99       200\n",
            "         120       0.97      0.93      0.95       200\n",
            "         121       0.93      0.86      0.89       200\n",
            "         122       0.93      0.96      0.95       200\n",
            "         123       0.84      0.97      0.90       200\n",
            "         124       0.74      1.00      0.85       200\n",
            "         125       0.94      0.77      0.84       200\n",
            "         126       0.87      0.91      0.89       200\n",
            "         127       0.53      0.87      0.66       200\n",
            "         128       0.99      1.00      0.99       200\n",
            "         129       0.92      1.00      0.96       200\n",
            "         130       0.87      1.00      0.93       200\n",
            "         131       0.97      0.93      0.95       200\n",
            "         132       1.00      0.98      0.99       200\n",
            "         133       0.94      0.91      0.92       200\n",
            "         134       0.86      0.92      0.89       200\n",
            "         135       0.84      1.00      0.91       200\n",
            "         136       0.92      0.82      0.87       200\n",
            "         137       0.93      0.99      0.96       200\n",
            "         138       0.97      0.93      0.95       200\n",
            "         139       0.86      0.91      0.88       200\n",
            "         140       0.95      0.98      0.97       200\n",
            "         141       0.97      0.89      0.93       200\n",
            "         142       0.99      0.95      0.97       200\n",
            "         143       0.80      0.90      0.85       200\n",
            "         144       0.67      0.99      0.80       200\n",
            "         145       0.83      0.86      0.84       200\n",
            "         146       0.98      1.00      0.99       200\n",
            "         147       0.88      0.93      0.91       200\n",
            "         148       0.94      0.90      0.92       200\n",
            "         149       0.87      0.85      0.86       200\n",
            "         150       0.98      0.88      0.93       200\n",
            "\n",
            "    accuracy                           0.91     31000\n",
            "   macro avg       0.91      0.91      0.91     31000\n",
            "weighted avg       0.91      0.91      0.90     31000\n",
            "\n"
          ]
        }
      ]
    },
    {
      "cell_type": "markdown",
      "source": [
        "Focusing on the out-of-scope label \n",
        "\n",
        "Label: 42       \n",
        "Precision: 0.86      \n",
        "Recall:0.65      \n",
        "F1-score:0.74      \n",
        "Support: 1000\n",
        "\n",
        "We use recall to evaluate out-of-scope since we are more interested in cases where such queries are predicted as in-scope, as this would mean a system gives the user a response that is completely wrong. Precision errors are less problematic as the fallback response will prompt the user to try again, or inform the user of the system’s scope of supported domains."
      ],
      "metadata": {
        "id": "h2rJMazRMWtx"
      }
    },
    {
      "cell_type": "code",
      "source": [
        "#loss curves\n",
        "import matplotlib.pyplot as plt\n",
        "plt.plot(range(10),train_gen_loss_history,'-',linewidth=3,label='Generator Loss')\n",
        "plt.plot(range(10),train_disc_loss_history,'-',linewidth=3,label='Discriminator Loss')\n",
        "plt.plot(range(10),val_loss_history,'-',linewidth=3,label='Validation Loss')\n",
        "plt.xlabel('Epoch')\n",
        "plt.ylabel('Loss')\n",
        "plt.grid(True)\n",
        "plt.legend()"
      ],
      "metadata": {
        "colab": {
          "base_uri": "https://localhost:8080/",
          "height": 296
        },
        "id": "JATlpI2dGRsX",
        "outputId": "a009dc7b-19e4-4cd1-a43d-598cb94b27a4"
      },
      "execution_count": 86,
      "outputs": [
        {
          "output_type": "execute_result",
          "data": {
            "text/plain": [
              "<matplotlib.legend.Legend at 0x7f1bd16c8700>"
            ]
          },
          "metadata": {},
          "execution_count": 86
        },
        {
          "output_type": "display_data",
          "data": {
            "text/plain": [
              "<Figure size 432x288 with 1 Axes>"
            ],
            "image/png": "[encoded data removed]"
          },
          "metadata": {
            "needs_background": "light"
          }
        }
      ]
    },
    {
      "cell_type": "code",
      "source": [
        "#accuracy curves\n",
        "plt.plot(range(10), val_accuracies,'-', linewidth=3, label='Validation accuracy')\n",
        "plt.xlabel('Epoch')\n",
        "plt.ylabel('Accuracy')\n",
        "plt.grid(True)\n",
        "plt.legend()"
      ],
      "metadata": {
        "colab": {
          "base_uri": "https://localhost:8080/",
          "height": 296
        },
        "id": "5eoPABNlGTlX",
        "outputId": "634dc80c-9fed-411c-a6d0-1ef1b081fce7"
      },
      "execution_count": 87,
      "outputs": [
        {
          "output_type": "execute_result",
          "data": {
            "text/plain": [
              "<matplotlib.legend.Legend at 0x7f1bda19a0d0>"
            ]
          },
          "metadata": {},
          "execution_count": 87
        },
        {
          "output_type": "display_data",
          "data": {
            "text/plain": [
              "<Figure size 432x288 with 1 Axes>"
            ],
            "image/png": "[encoded data removed]"
          },
          "metadata": {
            "needs_background": "light"
          }
        }
      ]
    },
    {
      "cell_type": "markdown",
      "source": [
        "The model has a decreasing loss curve for the generator loss, discriminator loss as well as the validation loss.\n",
        "And a stable increasing accuracy curve for validation accuracy - converging at around 95% accuracy which is similar to the BERT-base model."
      ],
      "metadata": {
        "id": "tB-SVwtieEDs"
      }
    },
    {
      "cell_type": "code",
      "source": [],
      "metadata": {
        "id": "LBAjfaSdMj3u"
      },
      "execution_count": null,
      "outputs": []
    }
  ]
}