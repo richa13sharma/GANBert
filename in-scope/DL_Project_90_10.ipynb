{
  "cells": [
    {
      "cell_type": "markdown",
      "metadata": {
        "id": "W0RZOLSUUMxt"
      },
      "source": [
        "# 90-10 split"
      ]
    },
    {
      "cell_type": "markdown",
      "metadata": {
        "id": "ckgPl4yQ_4WD"
      },
      "source": [
        "This notebook contains the code, statistics, loss & accuracy curves for the 90-10 variation of splitting the labeled & unlabeled examples that the GAN-BERT model is training on.\n"
      ]
    },
    {
      "cell_type": "markdown",
      "metadata": {
        "id": "rItvsdM7Tgk1"
      },
      "source": [
        "## Importing necessary packages"
      ]
    },
    {
      "cell_type": "code",
      "execution_count": null,
      "metadata": {
        "colab": {
          "base_uri": "https://localhost:8080/"
        },
        "id": "tOAcH6FiUDuA",
        "outputId": "af5bd0b4-0c58-4e4c-f9a4-78d780607479"
      },
      "outputs": [
        {
          "name": "stdout",
          "output_type": "stream",
          "text": [
            "Looking in indexes: https://pypi.org/simple, https://us-python.pkg.dev/colab-wheels/public/simple/\n",
            "Collecting transformers==4.3.2\n",
            "  Downloading transformers-4.3.2-py3-none-any.whl (1.8 MB)\n",
            "\u001b[K     |████████████████████████████████| 1.8 MB 4.8 MB/s \n",
            "\u001b[?25hRequirement already satisfied: regex!=2019.12.17 in /usr/local/lib/python3.8/dist-packages (from transformers==4.3.2) (2022.6.2)\n",
            "Requirement already satisfied: packaging in /usr/local/lib/python3.8/dist-packages (from transformers==4.3.2) (21.3)\n",
            "Requirement already satisfied: requests in /usr/local/lib/python3.8/dist-packages (from transformers==4.3.2) (2.23.0)\n",
            "Requirement already satisfied: filelock in /usr/local/lib/python3.8/dist-packages (from transformers==4.3.2) (3.8.2)\n",
            "Requirement already satisfied: numpy>=1.17 in /usr/local/lib/python3.8/dist-packages (from transformers==4.3.2) (1.21.6)\n",
            "Collecting sacremoses\n",
            "  Downloading sacremoses-0.0.53.tar.gz (880 kB)\n",
            "\u001b[K     |████████████████████████████████| 880 kB 53.4 MB/s \n",
            "\u001b[?25hRequirement already satisfied: tqdm>=4.27 in /usr/local/lib/python3.8/dist-packages (from transformers==4.3.2) (4.64.1)\n",
            "Collecting tokenizers<0.11,>=0.10.1\n",
            "  Downloading tokenizers-0.10.3-cp38-cp38-manylinux_2_5_x86_64.manylinux1_x86_64.manylinux_2_12_x86_64.manylinux2010_x86_64.whl (3.3 MB)\n",
            "\u001b[K     |████████████████████████████████| 3.3 MB 53.5 MB/s \n",
            "\u001b[?25hRequirement already satisfied: pyparsing!=3.0.5,>=2.0.2 in /usr/local/lib/python3.8/dist-packages (from packaging->transformers==4.3.2) (3.0.9)\n",
            "Requirement already satisfied: idna<3,>=2.5 in /usr/local/lib/python3.8/dist-packages (from requests->transformers==4.3.2) (2.10)\n",
            "Requirement already satisfied: urllib3!=1.25.0,!=1.25.1,<1.26,>=1.21.1 in /usr/local/lib/python3.8/dist-packages (from requests->transformers==4.3.2) (1.24.3)\n",
            "Requirement already satisfied: chardet<4,>=3.0.2 in /usr/local/lib/python3.8/dist-packages (from requests->transformers==4.3.2) (3.0.4)\n",
            "Requirement already satisfied: certifi>=2017.4.17 in /usr/local/lib/python3.8/dist-packages (from requests->transformers==4.3.2) (2022.12.7)\n",
            "Requirement already satisfied: six in /usr/local/lib/python3.8/dist-packages (from sacremoses->transformers==4.3.2) (1.15.0)\n",
            "Requirement already satisfied: click in /usr/local/lib/python3.8/dist-packages (from sacremoses->transformers==4.3.2) (7.1.2)\n",
            "Requirement already satisfied: joblib in /usr/local/lib/python3.8/dist-packages (from sacremoses->transformers==4.3.2) (1.2.0)\n",
            "Building wheels for collected packages: sacremoses\n",
            "  Building wheel for sacremoses (setup.py) ... \u001b[?25l\u001b[?25hdone\n",
            "  Created wheel for sacremoses: filename=sacremoses-0.0.53-py3-none-any.whl size=895260 sha256=080e93e198db86caef3bf65d17c49c03a9cf2cbe60841e8017df3f724370d351\n",
            "  Stored in directory: /root/.cache/pip/wheels/82/ab/9b/c15899bf659ba74f623ac776e861cf2eb8608c1825ddec66a4\n",
            "Successfully built sacremoses\n",
            "Installing collected packages: tokenizers, sacremoses, transformers\n",
            "Successfully installed sacremoses-0.0.53 tokenizers-0.10.3 transformers-4.3.2\n",
            "Looking in indexes: https://pypi.org/simple, https://us-python.pkg.dev/colab-wheels/public/simple/\n",
            "Collecting datasets\n",
            "  Downloading datasets-2.8.0-py3-none-any.whl (452 kB)\n",
            "\u001b[K     |████████████████████████████████| 452 kB 4.5 MB/s \n",
            "\u001b[?25hRequirement already satisfied: requests>=2.19.0 in /usr/local/lib/python3.8/dist-packages (from datasets) (2.23.0)\n",
            "Requirement already satisfied: dill<0.3.7 in /usr/local/lib/python3.8/dist-packages (from datasets) (0.3.6)\n",
            "Requirement already satisfied: tqdm>=4.62.1 in /usr/local/lib/python3.8/dist-packages (from datasets) (4.64.1)\n",
            "Requirement already satisfied: pyyaml>=5.1 in /usr/local/lib/python3.8/dist-packages (from datasets) (6.0)\n",
            "Collecting multiprocess\n",
            "  Downloading multiprocess-0.70.14-py38-none-any.whl (132 kB)\n",
            "\u001b[K     |████████████████████████████████| 132 kB 38.6 MB/s \n",
            "\u001b[?25hRequirement already satisfied: numpy>=1.17 in /usr/local/lib/python3.8/dist-packages (from datasets) (1.21.6)\n",
            "Collecting xxhash\n",
            "  Downloading xxhash-3.1.0-cp38-cp38-manylinux_2_17_x86_64.manylinux2014_x86_64.whl (212 kB)\n",
            "\u001b[K     |████████████████████████████████| 212 kB 45.5 MB/s \n",
            "\u001b[?25hRequirement already satisfied: pandas in /usr/local/lib/python3.8/dist-packages (from datasets) (1.3.5)\n",
            "Requirement already satisfied: aiohttp in /usr/local/lib/python3.8/dist-packages (from datasets) (3.8.3)\n",
            "Requirement already satisfied: pyarrow>=6.0.0 in /usr/local/lib/python3.8/dist-packages (from datasets) (9.0.0)\n",
            "Requirement already satisfied: packaging in /usr/local/lib/python3.8/dist-packages (from datasets) (21.3)\n",
            "Requirement already satisfied: fsspec[http]>=2021.11.1 in /usr/local/lib/python3.8/dist-packages (from datasets) (2022.11.0)\n",
            "Collecting huggingface-hub<1.0.0,>=0.2.0\n",
            "  Downloading huggingface_hub-0.11.1-py3-none-any.whl (182 kB)\n",
            "\u001b[K     |████████████████████████████████| 182 kB 20.1 MB/s \n",
            "\u001b[?25hCollecting responses<0.19\n",
            "  Downloading responses-0.18.0-py3-none-any.whl (38 kB)\n",
            "Requirement already satisfied: aiosignal>=1.1.2 in /usr/local/lib/python3.8/dist-packages (from aiohttp->datasets) (1.3.1)\n",
            "Requirement already satisfied: multidict<7.0,>=4.5 in /usr/local/lib/python3.8/dist-packages (from aiohttp->datasets) (6.0.3)\n",
            "Requirement already satisfied: charset-normalizer<3.0,>=2.0 in /usr/local/lib/python3.8/dist-packages (from aiohttp->datasets) (2.1.1)\n",
            "Requirement already satisfied: yarl<2.0,>=1.0 in /usr/local/lib/python3.8/dist-packages (from aiohttp->datasets) (1.8.2)\n",
            "Requirement already satisfied: attrs>=17.3.0 in /usr/local/lib/python3.8/dist-packages (from aiohttp->datasets) (22.1.0)\n",
            "Requirement already satisfied: async-timeout<5.0,>=4.0.0a3 in /usr/local/lib/python3.8/dist-packages (from aiohttp->datasets) (4.0.2)\n",
            "Requirement already satisfied: frozenlist>=1.1.1 in /usr/local/lib/python3.8/dist-packages (from aiohttp->datasets) (1.3.3)\n",
            "Requirement already satisfied: typing-extensions>=3.7.4.3 in /usr/local/lib/python3.8/dist-packages (from huggingface-hub<1.0.0,>=0.2.0->datasets) (4.4.0)\n",
            "Requirement already satisfied: filelock in /usr/local/lib/python3.8/dist-packages (from huggingface-hub<1.0.0,>=0.2.0->datasets) (3.8.2)\n",
            "Requirement already satisfied: pyparsing!=3.0.5,>=2.0.2 in /usr/local/lib/python3.8/dist-packages (from packaging->datasets) (3.0.9)\n",
            "Requirement already satisfied: idna<3,>=2.5 in /usr/local/lib/python3.8/dist-packages (from requests>=2.19.0->datasets) (2.10)\n",
            "Requirement already satisfied: certifi>=2017.4.17 in /usr/local/lib/python3.8/dist-packages (from requests>=2.19.0->datasets) (2022.12.7)\n",
            "Requirement already satisfied: chardet<4,>=3.0.2 in /usr/local/lib/python3.8/dist-packages (from requests>=2.19.0->datasets) (3.0.4)\n",
            "Requirement already satisfied: urllib3!=1.25.0,!=1.25.1,<1.26,>=1.21.1 in /usr/local/lib/python3.8/dist-packages (from requests>=2.19.0->datasets) (1.24.3)\n",
            "Collecting urllib3!=1.25.0,!=1.25.1,<1.26,>=1.21.1\n",
            "  Downloading urllib3-1.25.11-py2.py3-none-any.whl (127 kB)\n",
            "\u001b[K     |████████████████████████████████| 127 kB 46.9 MB/s \n",
            "\u001b[?25hRequirement already satisfied: python-dateutil>=2.7.3 in /usr/local/lib/python3.8/dist-packages (from pandas->datasets) (2.8.2)\n",
            "Requirement already satisfied: pytz>=2017.3 in /usr/local/lib/python3.8/dist-packages (from pandas->datasets) (2022.6)\n",
            "Requirement already satisfied: six>=1.5 in /usr/local/lib/python3.8/dist-packages (from python-dateutil>=2.7.3->pandas->datasets) (1.15.0)\n",
            "Installing collected packages: urllib3, xxhash, responses, multiprocess, huggingface-hub, datasets\n",
            "  Attempting uninstall: urllib3\n",
            "    Found existing installation: urllib3 1.24.3\n",
            "    Uninstalling urllib3-1.24.3:\n",
            "      Successfully uninstalled urllib3-1.24.3\n",
            "Successfully installed datasets-2.8.0 huggingface-hub-0.11.1 multiprocess-0.70.14 responses-0.18.0 urllib3-1.25.11 xxhash-3.1.0\n"
          ]
        }
      ],
      "source": [
        "!pip install transformers==4.3.2\n",
        "!pip install datasets"
      ]
    },
    {
      "cell_type": "code",
      "execution_count": null,
      "metadata": {
        "id": "yzDP5FZslqii"
      },
      "outputs": [],
      "source": [
        "import json\n",
        "from sklearn.model_selection import train_test_split\n",
        "import torch\n",
        "import io\n",
        "import torch.nn.functional as F\n",
        "import random\n",
        "import numpy as np\n",
        "import time\n",
        "import math\n",
        "import datetime\n",
        "import torch.nn as nn\n",
        "import pandas as pd\n",
        "\n",
        "from transformers import *\n",
        "from torch.utils.data import TensorDataset, DataLoader, RandomSampler, SequentialSampler\n",
        "from datasets import load_dataset"
      ]
    },
    {
      "cell_type": "markdown",
      "metadata": {
        "id": "Tj6Wy23MpCLl"
      },
      "source": [
        "## Utility functions"
      ]
    },
    {
      "cell_type": "code",
      "execution_count": null,
      "metadata": {
        "id": "JdliPXikUQu3"
      },
      "outputs": [],
      "source": [
        "# Set random values\n",
        "seed_val = 42\n",
        "random.seed(seed_val)\n",
        "np.random.seed(seed_val)\n",
        "torch.manual_seed(seed_val)\n",
        "if torch.cuda.is_available():\n",
        "  torch.cuda.manual_seed_all(seed_val)"
      ]
    },
    {
      "cell_type": "code",
      "execution_count": null,
      "metadata": {
        "colab": {
          "base_uri": "https://localhost:8080/"
        },
        "id": "TjQpweKxUU5N",
        "outputId": "3ca4d37b-3c24-452a-88ac-909ce5b8b9c1"
      },
      "outputs": [
        {
          "output_type": "execute_result",
          "data": {
            "text/plain": [
              "device(type='cuda')"
            ]
          },
          "metadata": {},
          "execution_count": 187
        }
      ],
      "source": [
        "device = torch.device('cuda') if torch.cuda.is_available() else torch.device('cpu')\n",
        "device"
      ]
    },
    {
      "cell_type": "code",
      "execution_count": null,
      "metadata": {
        "id": "MjAspE2Ywj1X"
      },
      "outputs": [],
      "source": [
        "def format_time(elapsed):\n",
        "    '''\n",
        "    Takes a time in seconds and returns a string hh:mm:ss\n",
        "    '''\n",
        "    # Round to the nearest second.\n",
        "    elapsed_rounded = int(round((elapsed)))\n",
        "    # Format as hh:mm:ss\n",
        "    return str(datetime.timedelta(seconds=elapsed_rounded))"
      ]
    },
    {
      "cell_type": "markdown",
      "metadata": {
        "id": "53cSfHTmpE2T"
      },
      "source": [
        "## Data Processing "
      ]
    },
    {
      "cell_type": "code",
      "execution_count": null,
      "metadata": {
        "id": "jjv1V6p_lB_-"
      },
      "outputs": [],
      "source": [
        "with open('data_full.json') as json_file:\n",
        "  data = json.load(json_file)\n",
        "  json_file.close()"
      ]
    },
    {
      "cell_type": "code",
      "source": [],
      "metadata": {
        "id": "1LUP9UluWzmA"
      },
      "execution_count": null,
      "outputs": []
    },
    {
      "cell_type": "code",
      "execution_count": null,
      "metadata": {
        "colab": {
          "base_uri": "https://localhost:8080/"
        },
        "id": "Mt0alestlLv_",
        "outputId": "fdb3050a-1f6d-43c9-f706-3fda872fd93a"
      },
      "outputs": [
        {
          "output_type": "stream",
          "name": "stdout",
          "text": [
            "dict_keys(['oos_val', 'val', 'train', 'oos_test', 'test', 'oos_train'])\n",
            "<class 'list'>\n",
            "<class 'list'>\n",
            "['what expression would i use to say i love you if i were an italian', 'translate']\n"
          ]
        }
      ],
      "source": [
        "print(data.keys())\n",
        "print(type(data['train']))\n",
        "print(type(data['train'][0]))\n",
        "print(data['train'][0])"
      ]
    },
    {
      "cell_type": "code",
      "execution_count": null,
      "metadata": {
        "colab": {
          "base_uri": "https://localhost:8080/"
        },
        "id": "8WSUak9ctLFF",
        "outputId": "5f8ca1b7-3f31-43d3-cbe4-6e30b7dd669a"
      },
      "outputs": [
        {
          "output_type": "stream",
          "name": "stdout",
          "text": [
            "151\n",
            "['UNK_UNK', 'translate', 'transfer']\n"
          ]
        }
      ],
      "source": [
        "intent_set = ['UNK_UNK'] # set of all intents\n",
        "for sent in data['train']:\n",
        "  if sent[1] not in intent_set:\n",
        "    intent_set.append(sent[1])\n",
        "\n",
        "print(len(intent_set))\n",
        "print(intent_set[:3])"
      ]
    },
    {
      "cell_type": "code",
      "execution_count": null,
      "metadata": {
        "id": "iBGR2WbUtn9x"
      },
      "outputs": [],
      "source": [
        "intent_map = {}\n",
        "for (i, label) in enumerate(intent_set):\n",
        "  intent_map[label] = i"
      ]
    },
    {
      "cell_type": "code",
      "execution_count": null,
      "metadata": {
        "id": "lT1zkVrDnrpc"
      },
      "outputs": [],
      "source": [
        "def split_labeled(intent_df, labeled_prop,unlabeled_prop):\n",
        "  test_size = unlabeled_prop/ (labeled_prop + unlabeled_prop)\n",
        "  df_labeled, df_unlabeled = train_test_split(intent_df, stratify = intent_df['intent'], test_size = test_size, random_state = 42)\n",
        "\n",
        "  df_labeled = df_labeled.reset_index(drop=True)\n",
        "  df_unlabeled = df_unlabeled.reset_index(drop=True)\n",
        "  print(df_labeled.head())\n",
        "  print(df_unlabeled.head())\n",
        "  print(df_labeled.shape)\n",
        "  print(df_unlabeled.shape)\n",
        "\n",
        "  #add into 2 lists - labeled_examples & unlabeled_examples\n",
        "  labeled_examples = []\n",
        "  unlabeled_examples = []\n",
        "  for i in range(len(df_labeled)):\n",
        "    labeled_examples.append((df_labeled.loc[i, 'text'], df_labeled.loc[i, 'intent']))\n",
        "  \n",
        "  print(labeled_examples[:3])\n",
        "\n",
        "  for i in range(len(df_unlabeled)):\n",
        "    unlabeled_examples.append((df_unlabeled.loc[i, 'text'], 'UNK_UNK'))\n",
        "\n",
        "  print(unlabeled_examples[:3])\n",
        "\n",
        "  return labeled_examples, unlabeled_examples\n"
      ]
    },
    {
      "cell_type": "code",
      "execution_count": null,
      "metadata": {
        "colab": {
          "base_uri": "https://localhost:8080/",
          "height": 206
        },
        "id": "BKVdTNlIo4S2",
        "outputId": "7a4216dd-e918-40dd-8520-44113de3e0d5"
      },
      "outputs": [
        {
          "output_type": "execute_result",
          "data": {
            "text/plain": [
              "                                                text     intent\n",
              "0  what expression would i use to say i love you ...  translate\n",
              "1  can you tell me how to say 'i do not speak muc...  translate\n",
              "2  what is the equivalent of, 'life is good' in f...  translate\n",
              "3  tell me how to say, 'it is a beautiful morning...  translate\n",
              "4  if i were mongolian, how would i say that i am...  translate"
            ],
            "text/html": [
              "\n",
              "  <div id=\"df-cfb91abf-6647-4064-9382-7bee6e0fd2a6\">\n",
              "    <div class=\"colab-df-container\">\n",
              "      <div>\n",
              "<style scoped>\n",
              "    .dataframe tbody tr th:only-of-type {\n",
              "        vertical-align: middle;\n",
              "    }\n",
              "\n",
              "    .dataframe tbody tr th {\n",
              "        vertical-align: top;\n",
              "    }\n",
              "\n",
              "    .dataframe thead th {\n",
              "        text-align: right;\n",
              "    }\n",
              "</style>\n",
              "<table border=\"1\" class=\"dataframe\">\n",
              "  <thead>\n",
              "    <tr style=\"text-align: right;\">\n",
              "      <th></th>\n",
              "      <th>text</th>\n",
              "      <th>intent</th>\n",
              "    </tr>\n",
              "  </thead>\n",
              "  <tbody>\n",
              "    <tr>\n",
              "      <th>0</th>\n",
              "      <td>what expression would i use to say i love you ...</td>\n",
              "      <td>translate</td>\n",
              "    </tr>\n",
              "    <tr>\n",
              "      <th>1</th>\n",
              "      <td>can you tell me how to say 'i do not speak muc...</td>\n",
              "      <td>translate</td>\n",
              "    </tr>\n",
              "    <tr>\n",
              "      <th>2</th>\n",
              "      <td>what is the equivalent of, 'life is good' in f...</td>\n",
              "      <td>translate</td>\n",
              "    </tr>\n",
              "    <tr>\n",
              "      <th>3</th>\n",
              "      <td>tell me how to say, 'it is a beautiful morning...</td>\n",
              "      <td>translate</td>\n",
              "    </tr>\n",
              "    <tr>\n",
              "      <th>4</th>\n",
              "      <td>if i were mongolian, how would i say that i am...</td>\n",
              "      <td>translate</td>\n",
              "    </tr>\n",
              "  </tbody>\n",
              "</table>\n",
              "</div>\n",
              "      <button class=\"colab-df-convert\" onclick=\"convertToInteractive('df-cfb91abf-6647-4064-9382-7bee6e0fd2a6')\"\n",
              "              title=\"Convert this dataframe to an interactive table.\"\n",
              "              style=\"display:none;\">\n",
              "        \n",
              "  <svg xmlns=\"http://www.w3.org/2000/svg\" height=\"24px\"viewBox=\"0 0 24 24\"\n",
              "       width=\"24px\">\n",
              "    <path d=\"M0 0h24v24H0V0z\" fill=\"none\"/>\n",
              "    <path d=\"M18.56 5.44l.94 2.06.94-2.06 2.06-.94-2.06-.94-.94-2.06-.94 2.06-2.06.94zm-11 1L8.5 8.5l.94-2.06 2.06-.94-2.06-.94L8.5 2.5l-.94 2.06-2.06.94zm10 10l.94 2.06.94-2.06 2.06-.94-2.06-.94-.94-2.06-.94 2.06-2.06.94z\"/><path d=\"M17.41 7.96l-1.37-1.37c-.4-.4-.92-.59-1.43-.59-.52 0-1.04.2-1.43.59L10.3 9.45l-7.72 7.72c-.78.78-.78 2.05 0 2.83L4 21.41c.39.39.9.59 1.41.59.51 0 1.02-.2 1.41-.59l7.78-7.78 2.81-2.81c.8-.78.8-2.07 0-2.86zM5.41 20L4 18.59l7.72-7.72 1.47 1.35L5.41 20z\"/>\n",
              "  </svg>\n",
              "      </button>\n",
              "      \n",
              "  <style>\n",
              "    .colab-df-container {\n",
              "      display:flex;\n",
              "      flex-wrap:wrap;\n",
              "      gap: 12px;\n",
              "    }\n",
              "\n",
              "    .colab-df-convert {\n",
              "      background-color: #E8F0FE;\n",
              "      border: none;\n",
              "      border-radius: 50%;\n",
              "      cursor: pointer;\n",
              "      display: none;\n",
              "      fill: #1967D2;\n",
              "      height: 32px;\n",
              "      padding: 0 0 0 0;\n",
              "      width: 32px;\n",
              "    }\n",
              "\n",
              "    .colab-df-convert:hover {\n",
              "      background-color: #E2EBFA;\n",
              "      box-shadow: 0px 1px 2px rgba(60, 64, 67, 0.3), 0px 1px 3px 1px rgba(60, 64, 67, 0.15);\n",
              "      fill: #174EA6;\n",
              "    }\n",
              "\n",
              "    [theme=dark] .colab-df-convert {\n",
              "      background-color: #3B4455;\n",
              "      fill: #D2E3FC;\n",
              "    }\n",
              "\n",
              "    [theme=dark] .colab-df-convert:hover {\n",
              "      background-color: #434B5C;\n",
              "      box-shadow: 0px 1px 3px 1px rgba(0, 0, 0, 0.15);\n",
              "      filter: drop-shadow(0px 1px 2px rgba(0, 0, 0, 0.3));\n",
              "      fill: #FFFFFF;\n",
              "    }\n",
              "  </style>\n",
              "\n",
              "      <script>\n",
              "        const buttonEl =\n",
              "          document.querySelector('#df-cfb91abf-6647-4064-9382-7bee6e0fd2a6 button.colab-df-convert');\n",
              "        buttonEl.style.display =\n",
              "          google.colab.kernel.accessAllowed ? 'block' : 'none';\n",
              "\n",
              "        async function convertToInteractive(key) {\n",
              "          const element = document.querySelector('#df-cfb91abf-6647-4064-9382-7bee6e0fd2a6');\n",
              "          const dataTable =\n",
              "            await google.colab.kernel.invokeFunction('convertToInteractive',\n",
              "                                                     [key], {});\n",
              "          if (!dataTable) return;\n",
              "\n",
              "          const docLinkHtml = 'Like what you see? Visit the ' +\n",
              "            '<a target=\"_blank\" href=https://colab.research.google.com/notebooks/data_table.ipynb>data table notebook</a>'\n",
              "            + ' to learn more about interactive tables.';\n",
              "          element.innerHTML = '';\n",
              "          dataTable['output_type'] = 'display_data';\n",
              "          await google.colab.output.renderOutput(dataTable, element);\n",
              "          const docLink = document.createElement('div');\n",
              "          docLink.innerHTML = docLinkHtml;\n",
              "          element.appendChild(docLink);\n",
              "        }\n",
              "      </script>\n",
              "    </div>\n",
              "  </div>\n",
              "  "
            ]
          },
          "metadata": {},
          "execution_count": 194
        }
      ],
      "source": [
        "intent_train_df = pd.DataFrame(data['train'], columns = ['text', 'intent'])\n",
        "intent_train_df.head()"
      ]
    },
    {
      "cell_type": "code",
      "execution_count": null,
      "metadata": {
        "colab": {
          "base_uri": "https://localhost:8080/"
        },
        "id": "IvAp6vVin1h7",
        "outputId": "d54d83c0-4c1b-47be-d6a1-3be6398a9e1a"
      },
      "outputs": [
        {
          "output_type": "stream",
          "name": "stdout",
          "text": [
            "                                                text            intent\n",
            "0                i want to know when i was last paid            payday\n",
            "1  do you know how many rewards points are curren...   rewards_balance\n",
            "2                   on my to do list, add exercising  todo_list_update\n",
            "3                          help me roll over my 401k     rollover_401k\n",
            "4                         can i get a w2 form online                w2\n",
            "                                             text            intent\n",
            "0           what is the traffic nearest lexington           traffic\n",
            "1  how much is the minimum payment for power bill       min_payment\n",
            "2                     when do i pay the utilities          bill_due\n",
            "3  i'd like to know how many vacation days i have       pto_balance\n",
            "4  talk to me by calling me this name from now on  change_user_name\n",
            "(13500, 2)\n",
            "(1500, 2)\n",
            "[('i want to know when i was last paid', 'payday'), ('do you know how many rewards points are currently on my discover card', 'rewards_balance'), ('on my to do list, add exercising', 'todo_list_update')]\n",
            "[('what is the traffic nearest lexington', 'UNK_UNK'), ('how much is the minimum payment for power bill', 'UNK_UNK'), ('when do i pay the utilities', 'UNK_UNK')]\n"
          ]
        }
      ],
      "source": [
        "#1st Variation\n",
        "labeled_examples, unlabeled_examples = split_labeled(intent_train_df, labeled_prop=90,unlabeled_prop=10)"
      ]
    },
    {
      "cell_type": "code",
      "execution_count": null,
      "metadata": {
        "id": "c5BsjpLfCfJ5"
      },
      "outputs": [],
      "source": [
        "# validation \n",
        "val_examples = []\n",
        "for sent in data['val']:\n",
        "  val_examples.append((sent[0], sent[1]))\n",
        "\n",
        "# test\n",
        "test_examples = []\n",
        "for sent in data['test']:\n",
        "  test_examples.append((sent[0], sent[1]))"
      ]
    },
    {
      "cell_type": "markdown",
      "metadata": {
        "id": "j4R1vrbQ0v-j"
      },
      "source": [
        "Tokenization / Dataloader"
      ]
    },
    {
      "cell_type": "code",
      "execution_count": null,
      "metadata": {
        "id": "pqxgPFoHzpFA"
      },
      "outputs": [],
      "source": [
        "tokenizer = BertTokenizer.from_pretrained(\"bert-base-uncased\", do_lower_case=True) "
      ]
    },
    {
      "cell_type": "code",
      "execution_count": null,
      "metadata": {
        "colab": {
          "base_uri": "https://localhost:8080/"
        },
        "id": "f3iMspP52z3-",
        "outputId": "7d4c9b31-4fe3-47c1-d68e-89c64a35c519"
      },
      "outputs": [
        {
          "output_type": "stream",
          "name": "stdout",
          "text": [
            "[SEP] 102\n",
            "[CLS] 101\n",
            "[PAD] 0\n",
            "[UNK] 100\n"
          ]
        }
      ],
      "source": [
        "# Some of the common BERT tokens\n",
        "print(tokenizer.sep_token, tokenizer.sep_token_id) # marker for ending of a sentence\n",
        "print(tokenizer.cls_token, tokenizer.cls_token_id) # start of each sentence, so BERT knows we’re doing classification\n",
        "print(tokenizer.pad_token, tokenizer.pad_token_id) # special token for padding\n",
        "print(tokenizer.unk_token, tokenizer.unk_token_id) # tokens not found in training set "
      ]
    },
    {
      "cell_type": "code",
      "execution_count": null,
      "metadata": {
        "id": "1JveGKJpxRrX"
      },
      "outputs": [],
      "source": [
        "# tokenizer + dataloader - no balancing like ganbert - add if accuracy is off\n",
        "\n",
        "def dataloader(ip_examples, label_masks, intent_map, do_shuffle, balance):\n",
        "  # applying balance\n",
        "  examples = []\n",
        "\n",
        "  # Count the percentage of labeled examples  \n",
        "  num_labeled_examples = 0 \n",
        "  for label_mask in label_masks:\n",
        "    if label_mask: \n",
        "      num_labeled_examples += 1\n",
        "  label_mask_rate = num_labeled_examples/len(ip_examples)\n",
        "\n",
        "  # if required it applies the balance\n",
        "  for index, ex in enumerate(ip_examples): \n",
        "    if label_mask_rate == 1 or not balance: #if all labeled or balancing is not needed\n",
        "      examples.append((ex, label_masks[index]))\n",
        "    else:\n",
        "      # IT SIMULATE A LABELED EXAMPLE\n",
        "      if label_masks[index]:\n",
        "        balance = int(1/label_mask_rate)\n",
        "        balance = int(math.log(balance,2))\n",
        "        if balance < 1:\n",
        "          balance = 1\n",
        "        for b in range(0, int(balance)):\n",
        "          examples.append((ex, label_masks[index]))\n",
        "      else:\n",
        "        examples.append((ex, label_masks[index]))\n",
        "\n",
        "\n",
        "  input_ids = []\n",
        "  input_mask_array = []\n",
        "  label_mask_array = []\n",
        "  label_id_array = []\n",
        "\n",
        "  # sentences = []\n",
        "  # for idx, sent in enumerate(examples):\n",
        "  #   sentences.append((sent, label_masks[idx]))\n",
        "\n",
        "  # tokenization\n",
        "  for (text, label_mask) in examples:\n",
        "    encoded_sent = tokenizer.encode(text[0], add_special_tokens=True, max_length=40, padding=\"max_length\", truncation=True)\n",
        "    input_ids.append(encoded_sent)\n",
        "    label_id_array.append(intent_map[text[1]])\n",
        "    label_mask_array.append(label_mask)\n",
        "\n",
        "  # Attention to token (to ignore padded input wordpieces)\n",
        "  for sent in input_ids:\n",
        "    att_mask = [int(token_id > 0) for token_id in sent]                          \n",
        "    input_mask_array.append(att_mask)\n",
        "\n",
        "  # Convertion to Tensor\n",
        "  input_ids = torch.tensor(input_ids) \n",
        "  input_mask_array = torch.tensor(input_mask_array)\n",
        "  label_id_array = torch.tensor(label_id_array, dtype=torch.long)\n",
        "  label_mask_array = torch.tensor(label_mask_array)\n",
        "\n",
        "  # Building the TensorDataset\n",
        "  dataset = TensorDataset(input_ids, input_mask_array, label_id_array, label_mask_array)\n",
        "\n",
        "  if do_shuffle:\n",
        "    sampler = RandomSampler\n",
        "  else:\n",
        "    sampler = SequentialSampler\n",
        "\n",
        "  # Building the DataLoader\n",
        "  return DataLoader(dataset, sampler = sampler(dataset), batch_size = 64) \n"
      ]
    },
    {
      "cell_type": "markdown",
      "metadata": {
        "id": "OlNzGGBuIp3A"
      },
      "source": [
        "The sentence with the max length = 33, hence for each sentence in a batch, padding is done to make them all of length 40."
      ]
    },
    {
      "cell_type": "code",
      "execution_count": null,
      "metadata": {
        "colab": {
          "base_uri": "https://localhost:8080/"
        },
        "id": "q2LiAUqWs8_-",
        "outputId": "fa75be7a-3320-4a99-8e33-afebaea0a369"
      },
      "outputs": [
        {
          "output_type": "stream",
          "name": "stderr",
          "text": [
            "<ipython-input-199-7b370dd84a6f>:56: DeprecationWarning: In future, it will be an error for 'np.bool_' scalars to be interpreted as an index\n",
            "  label_mask_array = torch.tensor(label_mask_array)\n"
          ]
        }
      ],
      "source": [
        "\n",
        "# label masks - True for labeled, False for unlabeled\n",
        "lab_label_masks = np.ones(len(labeled_examples), dtype=bool)\n",
        "unlab_label_masks = np.zeros(len(unlabeled_examples), dtype=bool)\n",
        "train_label_masks = np.concatenate([lab_label_masks,unlab_label_masks])\n",
        "\n",
        "# train examples - labeled + unlabeled\n",
        "train_examples = labeled_examples + unlabeled_examples\n",
        "\n",
        "# train dataloader \n",
        "train_dataloader = dataloader(train_examples, train_label_masks, intent_map, do_shuffle = True, balance = True)\n",
        "\n",
        "#val dataloader\n",
        "val_label_masks = np.ones(len(val_examples), dtype=bool)\n",
        "val_dataloader = dataloader(val_examples, val_label_masks, intent_map, do_shuffle = False, balance = False)\n",
        "\n",
        "#test dataloader\n",
        "test_label_masks = np.ones(len(test_examples), dtype=bool)\n",
        "test_dataloader = dataloader(test_examples, test_label_masks, intent_map, do_shuffle = False, balance = False)\n"
      ]
    },
    {
      "cell_type": "markdown",
      "metadata": {
        "id": "p0r3sGdQdzMy"
      },
      "source": [
        "## Building the Model"
      ]
    },
    {
      "cell_type": "code",
      "execution_count": null,
      "metadata": {
        "id": "P0hcfDZPOYkn"
      },
      "outputs": [],
      "source": [
        "# BERT\n",
        "transformer =  BertModel.from_pretrained(\"bert-base-uncased\")"
      ]
    },
    {
      "cell_type": "code",
      "execution_count": null,
      "metadata": {
        "id": "oD_-wMT0d_vz"
      },
      "outputs": [],
      "source": [
        "#Generator\n",
        "\n",
        "class Generator(nn.Module):\n",
        "    def __init__(self, noise_size, output_size, hidden_sizes, dropout_rate):\n",
        "        super(Generator, self).__init__()\n",
        "        layers = []\n",
        "        hidden_sizes = [noise_size] + hidden_sizes\n",
        "        for i in range(len(hidden_sizes)-1):\n",
        "            layers.extend([nn.Linear(hidden_sizes[i], hidden_sizes[i+1]), nn.LeakyReLU(0.2, inplace=True), nn.Dropout(dropout_rate)])\n",
        "\n",
        "        layers.append(nn.Linear(hidden_sizes[-1],output_size))\n",
        "        self.layers = nn.Sequential(*layers)\n",
        "\n",
        "    def forward(self, noise):\n",
        "        output_rep = self.layers(noise)\n",
        "        return output_rep"
      ]
    },
    {
      "cell_type": "code",
      "execution_count": null,
      "metadata": {
        "id": "xeIbz8kIeGXz"
      },
      "outputs": [],
      "source": [
        "# Discriminator\n",
        "\n",
        "class Discriminator(nn.Module):\n",
        "    def __init__(self, input_size, hidden_sizes, num_labels, dropout_rate):\n",
        "        super(Discriminator, self).__init__()\n",
        "        self.input_dropout = nn.Dropout(p=dropout_rate)\n",
        "        layers = []\n",
        "        hidden_sizes = [input_size] + hidden_sizes\n",
        "        for i in range(len(hidden_sizes)-1):\n",
        "            layers.extend([nn.Linear(hidden_sizes[i], hidden_sizes[i+1]), nn.LeakyReLU(0.2, inplace=True), nn.Dropout(dropout_rate)])\n",
        "\n",
        "        self.layers = nn.Sequential(*layers) #per il flatten\n",
        "        self.logit = nn.Linear(hidden_sizes[-1],num_labels+1) # +1 for the probability of this sample being fake/real.\n",
        "        self.softmax = nn.Softmax(dim=-1)\n",
        "\n",
        "    def forward(self, input_rep):\n",
        "        input_rep = self.input_dropout(input_rep)\n",
        "        last_rep = self.layers(input_rep)\n",
        "        logits = self.logit(last_rep)\n",
        "        probs = self.softmax(logits)\n",
        "        return last_rep, logits, probs"
      ]
    },
    {
      "cell_type": "code",
      "execution_count": null,
      "metadata": {
        "id": "apkWunKpF5ql"
      },
      "outputs": [],
      "source": [
        "noise_size = 100\n",
        "config = BertConfig.from_pretrained(\"bert-base-uncased\")\n",
        "hidden_size = config.hidden_size # BERT outputs a 768 embedding vector\n",
        "num_hidden_layers_gen = 1\n",
        "hidden_levels_gen = [hidden_size for i in range(0, num_hidden_layers_gen)]\n",
        "num_hidden_layers_disc = 1\n",
        "hidden_levels_disc = [hidden_size for i in range(0, num_hidden_layers_disc)]\n",
        "\n",
        "# dropout to be applied to discriminator's input vectors\n",
        "out_dropout_rate = 0.2\n",
        "\n",
        "num_labels = len(intent_map)\n",
        "\n",
        "generator = Generator(noise_size=noise_size, #100\n",
        "                      output_size=hidden_size, #768\n",
        "                      hidden_sizes=hidden_levels_gen, #[768] \n",
        "                      dropout_rate=out_dropout_rate) #0.2\n",
        "\n",
        "discriminator = Discriminator(input_size=hidden_size, #768\n",
        "                              hidden_sizes=hidden_levels_disc, #[768]\n",
        "                              num_labels=num_labels, #151 - no oos\n",
        "                              dropout_rate=out_dropout_rate) #0.2\n"
      ]
    },
    {
      "cell_type": "code",
      "execution_count": null,
      "metadata": {
        "colab": {
          "base_uri": "https://localhost:8080/"
        },
        "id": "bTkVAX72N4jO",
        "outputId": "5974946d-51a6-42e2-c648-d71ed075d570"
      },
      "outputs": [
        {
          "output_type": "execute_result",
          "data": {
            "text/plain": [
              "Generator(\n",
              "  (layers): Sequential(\n",
              "    (0): Linear(in_features=100, out_features=768, bias=True)\n",
              "    (1): LeakyReLU(negative_slope=0.2, inplace=True)\n",
              "    (2): Dropout(p=0.2, inplace=False)\n",
              "    (3): Linear(in_features=768, out_features=768, bias=True)\n",
              "  )\n",
              ")"
            ]
          },
          "metadata": {},
          "execution_count": 205
        }
      ],
      "source": [
        "# input dim - 100x768\n",
        "# output dim - 768x768\n",
        "generator"
      ]
    },
    {
      "cell_type": "code",
      "execution_count": null,
      "metadata": {
        "colab": {
          "base_uri": "https://localhost:8080/"
        },
        "id": "SsBxCphHN8V4",
        "outputId": "6931f9ee-9cbe-4527-8669-92578af36927"
      },
      "outputs": [
        {
          "output_type": "execute_result",
          "data": {
            "text/plain": [
              "Discriminator(\n",
              "  (input_dropout): Dropout(p=0.2, inplace=False)\n",
              "  (layers): Sequential(\n",
              "    (0): Linear(in_features=768, out_features=768, bias=True)\n",
              "    (1): LeakyReLU(negative_slope=0.2, inplace=True)\n",
              "    (2): Dropout(p=0.2, inplace=False)\n",
              "  )\n",
              "  (logit): Linear(in_features=768, out_features=152, bias=True)\n",
              "  (softmax): Softmax(dim=-1)\n",
              ")"
            ]
          },
          "metadata": {},
          "execution_count": 206
        }
      ],
      "source": [
        "# input dim - 768x768\n",
        "# output dim - 768x152\n",
        "discriminator  "
      ]
    },
    {
      "cell_type": "code",
      "execution_count": null,
      "metadata": {
        "colab": {
          "base_uri": "https://localhost:8080/"
        },
        "id": "juw-fYOCOzSb",
        "outputId": "27dd02d9-ff4f-44af-be5f-8af5052c67aa"
      },
      "outputs": [
        {
          "output_type": "execute_result",
          "data": {
            "text/plain": [
              "BertModel(\n",
              "  (embeddings): BertEmbeddings(\n",
              "    (word_embeddings): Embedding(30522, 768, padding_idx=0)\n",
              "    (position_embeddings): Embedding(512, 768)\n",
              "    (token_type_embeddings): Embedding(2, 768)\n",
              "    (LayerNorm): LayerNorm((768,), eps=1e-12, elementwise_affine=True)\n",
              "    (dropout): Dropout(p=0.1, inplace=False)\n",
              "  )\n",
              "  (encoder): BertEncoder(\n",
              "    (layer): ModuleList(\n",
              "      (0): BertLayer(\n",
              "        (attention): BertAttention(\n",
              "          (self): BertSelfAttention(\n",
              "            (query): Linear(in_features=768, out_features=768, bias=True)\n",
              "            (key): Linear(in_features=768, out_features=768, bias=True)\n",
              "            (value): Linear(in_features=768, out_features=768, bias=True)\n",
              "            (dropout): Dropout(p=0.1, inplace=False)\n",
              "          )\n",
              "          (output): BertSelfOutput(\n",
              "            (dense): Linear(in_features=768, out_features=768, bias=True)\n",
              "            (LayerNorm): LayerNorm((768,), eps=1e-12, elementwise_affine=True)\n",
              "            (dropout): Dropout(p=0.1, inplace=False)\n",
              "          )\n",
              "        )\n",
              "        (intermediate): BertIntermediate(\n",
              "          (dense): Linear(in_features=768, out_features=3072, bias=True)\n",
              "        )\n",
              "        (output): BertOutput(\n",
              "          (dense): Linear(in_features=3072, out_features=768, bias=True)\n",
              "          (LayerNorm): LayerNorm((768,), eps=1e-12, elementwise_affine=True)\n",
              "          (dropout): Dropout(p=0.1, inplace=False)\n",
              "        )\n",
              "      )\n",
              "      (1): BertLayer(\n",
              "        (attention): BertAttention(\n",
              "          (self): BertSelfAttention(\n",
              "            (query): Linear(in_features=768, out_features=768, bias=True)\n",
              "            (key): Linear(in_features=768, out_features=768, bias=True)\n",
              "            (value): Linear(in_features=768, out_features=768, bias=True)\n",
              "            (dropout): Dropout(p=0.1, inplace=False)\n",
              "          )\n",
              "          (output): BertSelfOutput(\n",
              "            (dense): Linear(in_features=768, out_features=768, bias=True)\n",
              "            (LayerNorm): LayerNorm((768,), eps=1e-12, elementwise_affine=True)\n",
              "            (dropout): Dropout(p=0.1, inplace=False)\n",
              "          )\n",
              "        )\n",
              "        (intermediate): BertIntermediate(\n",
              "          (dense): Linear(in_features=768, out_features=3072, bias=True)\n",
              "        )\n",
              "        (output): BertOutput(\n",
              "          (dense): Linear(in_features=3072, out_features=768, bias=True)\n",
              "          (LayerNorm): LayerNorm((768,), eps=1e-12, elementwise_affine=True)\n",
              "          (dropout): Dropout(p=0.1, inplace=False)\n",
              "        )\n",
              "      )\n",
              "      (2): BertLayer(\n",
              "        (attention): BertAttention(\n",
              "          (self): BertSelfAttention(\n",
              "            (query): Linear(in_features=768, out_features=768, bias=True)\n",
              "            (key): Linear(in_features=768, out_features=768, bias=True)\n",
              "            (value): Linear(in_features=768, out_features=768, bias=True)\n",
              "            (dropout): Dropout(p=0.1, inplace=False)\n",
              "          )\n",
              "          (output): BertSelfOutput(\n",
              "            (dense): Linear(in_features=768, out_features=768, bias=True)\n",
              "            (LayerNorm): LayerNorm((768,), eps=1e-12, elementwise_affine=True)\n",
              "            (dropout): Dropout(p=0.1, inplace=False)\n",
              "          )\n",
              "        )\n",
              "        (intermediate): BertIntermediate(\n",
              "          (dense): Linear(in_features=768, out_features=3072, bias=True)\n",
              "        )\n",
              "        (output): BertOutput(\n",
              "          (dense): Linear(in_features=3072, out_features=768, bias=True)\n",
              "          (LayerNorm): LayerNorm((768,), eps=1e-12, elementwise_affine=True)\n",
              "          (dropout): Dropout(p=0.1, inplace=False)\n",
              "        )\n",
              "      )\n",
              "      (3): BertLayer(\n",
              "        (attention): BertAttention(\n",
              "          (self): BertSelfAttention(\n",
              "            (query): Linear(in_features=768, out_features=768, bias=True)\n",
              "            (key): Linear(in_features=768, out_features=768, bias=True)\n",
              "            (value): Linear(in_features=768, out_features=768, bias=True)\n",
              "            (dropout): Dropout(p=0.1, inplace=False)\n",
              "          )\n",
              "          (output): BertSelfOutput(\n",
              "            (dense): Linear(in_features=768, out_features=768, bias=True)\n",
              "            (LayerNorm): LayerNorm((768,), eps=1e-12, elementwise_affine=True)\n",
              "            (dropout): Dropout(p=0.1, inplace=False)\n",
              "          )\n",
              "        )\n",
              "        (intermediate): BertIntermediate(\n",
              "          (dense): Linear(in_features=768, out_features=3072, bias=True)\n",
              "        )\n",
              "        (output): BertOutput(\n",
              "          (dense): Linear(in_features=3072, out_features=768, bias=True)\n",
              "          (LayerNorm): LayerNorm((768,), eps=1e-12, elementwise_affine=True)\n",
              "          (dropout): Dropout(p=0.1, inplace=False)\n",
              "        )\n",
              "      )\n",
              "      (4): BertLayer(\n",
              "        (attention): BertAttention(\n",
              "          (self): BertSelfAttention(\n",
              "            (query): Linear(in_features=768, out_features=768, bias=True)\n",
              "            (key): Linear(in_features=768, out_features=768, bias=True)\n",
              "            (value): Linear(in_features=768, out_features=768, bias=True)\n",
              "            (dropout): Dropout(p=0.1, inplace=False)\n",
              "          )\n",
              "          (output): BertSelfOutput(\n",
              "            (dense): Linear(in_features=768, out_features=768, bias=True)\n",
              "            (LayerNorm): LayerNorm((768,), eps=1e-12, elementwise_affine=True)\n",
              "            (dropout): Dropout(p=0.1, inplace=False)\n",
              "          )\n",
              "        )\n",
              "        (intermediate): BertIntermediate(\n",
              "          (dense): Linear(in_features=768, out_features=3072, bias=True)\n",
              "        )\n",
              "        (output): BertOutput(\n",
              "          (dense): Linear(in_features=3072, out_features=768, bias=True)\n",
              "          (LayerNorm): LayerNorm((768,), eps=1e-12, elementwise_affine=True)\n",
              "          (dropout): Dropout(p=0.1, inplace=False)\n",
              "        )\n",
              "      )\n",
              "      (5): BertLayer(\n",
              "        (attention): BertAttention(\n",
              "          (self): BertSelfAttention(\n",
              "            (query): Linear(in_features=768, out_features=768, bias=True)\n",
              "            (key): Linear(in_features=768, out_features=768, bias=True)\n",
              "            (value): Linear(in_features=768, out_features=768, bias=True)\n",
              "            (dropout): Dropout(p=0.1, inplace=False)\n",
              "          )\n",
              "          (output): BertSelfOutput(\n",
              "            (dense): Linear(in_features=768, out_features=768, bias=True)\n",
              "            (LayerNorm): LayerNorm((768,), eps=1e-12, elementwise_affine=True)\n",
              "            (dropout): Dropout(p=0.1, inplace=False)\n",
              "          )\n",
              "        )\n",
              "        (intermediate): BertIntermediate(\n",
              "          (dense): Linear(in_features=768, out_features=3072, bias=True)\n",
              "        )\n",
              "        (output): BertOutput(\n",
              "          (dense): Linear(in_features=3072, out_features=768, bias=True)\n",
              "          (LayerNorm): LayerNorm((768,), eps=1e-12, elementwise_affine=True)\n",
              "          (dropout): Dropout(p=0.1, inplace=False)\n",
              "        )\n",
              "      )\n",
              "      (6): BertLayer(\n",
              "        (attention): BertAttention(\n",
              "          (self): BertSelfAttention(\n",
              "            (query): Linear(in_features=768, out_features=768, bias=True)\n",
              "            (key): Linear(in_features=768, out_features=768, bias=True)\n",
              "            (value): Linear(in_features=768, out_features=768, bias=True)\n",
              "            (dropout): Dropout(p=0.1, inplace=False)\n",
              "          )\n",
              "          (output): BertSelfOutput(\n",
              "            (dense): Linear(in_features=768, out_features=768, bias=True)\n",
              "            (LayerNorm): LayerNorm((768,), eps=1e-12, elementwise_affine=True)\n",
              "            (dropout): Dropout(p=0.1, inplace=False)\n",
              "          )\n",
              "        )\n",
              "        (intermediate): BertIntermediate(\n",
              "          (dense): Linear(in_features=768, out_features=3072, bias=True)\n",
              "        )\n",
              "        (output): BertOutput(\n",
              "          (dense): Linear(in_features=3072, out_features=768, bias=True)\n",
              "          (LayerNorm): LayerNorm((768,), eps=1e-12, elementwise_affine=True)\n",
              "          (dropout): Dropout(p=0.1, inplace=False)\n",
              "        )\n",
              "      )\n",
              "      (7): BertLayer(\n",
              "        (attention): BertAttention(\n",
              "          (self): BertSelfAttention(\n",
              "            (query): Linear(in_features=768, out_features=768, bias=True)\n",
              "            (key): Linear(in_features=768, out_features=768, bias=True)\n",
              "            (value): Linear(in_features=768, out_features=768, bias=True)\n",
              "            (dropout): Dropout(p=0.1, inplace=False)\n",
              "          )\n",
              "          (output): BertSelfOutput(\n",
              "            (dense): Linear(in_features=768, out_features=768, bias=True)\n",
              "            (LayerNorm): LayerNorm((768,), eps=1e-12, elementwise_affine=True)\n",
              "            (dropout): Dropout(p=0.1, inplace=False)\n",
              "          )\n",
              "        )\n",
              "        (intermediate): BertIntermediate(\n",
              "          (dense): Linear(in_features=768, out_features=3072, bias=True)\n",
              "        )\n",
              "        (output): BertOutput(\n",
              "          (dense): Linear(in_features=3072, out_features=768, bias=True)\n",
              "          (LayerNorm): LayerNorm((768,), eps=1e-12, elementwise_affine=True)\n",
              "          (dropout): Dropout(p=0.1, inplace=False)\n",
              "        )\n",
              "      )\n",
              "      (8): BertLayer(\n",
              "        (attention): BertAttention(\n",
              "          (self): BertSelfAttention(\n",
              "            (query): Linear(in_features=768, out_features=768, bias=True)\n",
              "            (key): Linear(in_features=768, out_features=768, bias=True)\n",
              "            (value): Linear(in_features=768, out_features=768, bias=True)\n",
              "            (dropout): Dropout(p=0.1, inplace=False)\n",
              "          )\n",
              "          (output): BertSelfOutput(\n",
              "            (dense): Linear(in_features=768, out_features=768, bias=True)\n",
              "            (LayerNorm): LayerNorm((768,), eps=1e-12, elementwise_affine=True)\n",
              "            (dropout): Dropout(p=0.1, inplace=False)\n",
              "          )\n",
              "        )\n",
              "        (intermediate): BertIntermediate(\n",
              "          (dense): Linear(in_features=768, out_features=3072, bias=True)\n",
              "        )\n",
              "        (output): BertOutput(\n",
              "          (dense): Linear(in_features=3072, out_features=768, bias=True)\n",
              "          (LayerNorm): LayerNorm((768,), eps=1e-12, elementwise_affine=True)\n",
              "          (dropout): Dropout(p=0.1, inplace=False)\n",
              "        )\n",
              "      )\n",
              "      (9): BertLayer(\n",
              "        (attention): BertAttention(\n",
              "          (self): BertSelfAttention(\n",
              "            (query): Linear(in_features=768, out_features=768, bias=True)\n",
              "            (key): Linear(in_features=768, out_features=768, bias=True)\n",
              "            (value): Linear(in_features=768, out_features=768, bias=True)\n",
              "            (dropout): Dropout(p=0.1, inplace=False)\n",
              "          )\n",
              "          (output): BertSelfOutput(\n",
              "            (dense): Linear(in_features=768, out_features=768, bias=True)\n",
              "            (LayerNorm): LayerNorm((768,), eps=1e-12, elementwise_affine=True)\n",
              "            (dropout): Dropout(p=0.1, inplace=False)\n",
              "          )\n",
              "        )\n",
              "        (intermediate): BertIntermediate(\n",
              "          (dense): Linear(in_features=768, out_features=3072, bias=True)\n",
              "        )\n",
              "        (output): BertOutput(\n",
              "          (dense): Linear(in_features=3072, out_features=768, bias=True)\n",
              "          (LayerNorm): LayerNorm((768,), eps=1e-12, elementwise_affine=True)\n",
              "          (dropout): Dropout(p=0.1, inplace=False)\n",
              "        )\n",
              "      )\n",
              "      (10): BertLayer(\n",
              "        (attention): BertAttention(\n",
              "          (self): BertSelfAttention(\n",
              "            (query): Linear(in_features=768, out_features=768, bias=True)\n",
              "            (key): Linear(in_features=768, out_features=768, bias=True)\n",
              "            (value): Linear(in_features=768, out_features=768, bias=True)\n",
              "            (dropout): Dropout(p=0.1, inplace=False)\n",
              "          )\n",
              "          (output): BertSelfOutput(\n",
              "            (dense): Linear(in_features=768, out_features=768, bias=True)\n",
              "            (LayerNorm): LayerNorm((768,), eps=1e-12, elementwise_affine=True)\n",
              "            (dropout): Dropout(p=0.1, inplace=False)\n",
              "          )\n",
              "        )\n",
              "        (intermediate): BertIntermediate(\n",
              "          (dense): Linear(in_features=768, out_features=3072, bias=True)\n",
              "        )\n",
              "        (output): BertOutput(\n",
              "          (dense): Linear(in_features=3072, out_features=768, bias=True)\n",
              "          (LayerNorm): LayerNorm((768,), eps=1e-12, elementwise_affine=True)\n",
              "          (dropout): Dropout(p=0.1, inplace=False)\n",
              "        )\n",
              "      )\n",
              "      (11): BertLayer(\n",
              "        (attention): BertAttention(\n",
              "          (self): BertSelfAttention(\n",
              "            (query): Linear(in_features=768, out_features=768, bias=True)\n",
              "            (key): Linear(in_features=768, out_features=768, bias=True)\n",
              "            (value): Linear(in_features=768, out_features=768, bias=True)\n",
              "            (dropout): Dropout(p=0.1, inplace=False)\n",
              "          )\n",
              "          (output): BertSelfOutput(\n",
              "            (dense): Linear(in_features=768, out_features=768, bias=True)\n",
              "            (LayerNorm): LayerNorm((768,), eps=1e-12, elementwise_affine=True)\n",
              "            (dropout): Dropout(p=0.1, inplace=False)\n",
              "          )\n",
              "        )\n",
              "        (intermediate): BertIntermediate(\n",
              "          (dense): Linear(in_features=768, out_features=3072, bias=True)\n",
              "        )\n",
              "        (output): BertOutput(\n",
              "          (dense): Linear(in_features=3072, out_features=768, bias=True)\n",
              "          (LayerNorm): LayerNorm((768,), eps=1e-12, elementwise_affine=True)\n",
              "          (dropout): Dropout(p=0.1, inplace=False)\n",
              "        )\n",
              "      )\n",
              "    )\n",
              "  )\n",
              "  (pooler): BertPooler(\n",
              "    (dense): Linear(in_features=768, out_features=768, bias=True)\n",
              "    (activation): Tanh()\n",
              "  )\n",
              ")"
            ]
          },
          "metadata": {},
          "execution_count": 207
        }
      ],
      "source": [
        "# input dim - 30522x768\n",
        "# output dim - 768x768\n",
        "transformer "
      ]
    },
    {
      "cell_type": "code",
      "execution_count": null,
      "metadata": {
        "id": "bqaGXwp7UCvj"
      },
      "outputs": [],
      "source": [
        "multi_gpu = True\n",
        "if torch.cuda.is_available():    \n",
        "  generator.cuda()\n",
        "  discriminator.cuda()\n",
        "  transformer.cuda()\n",
        "  if multi_gpu:\n",
        "    transformer = torch.nn.DataParallel(transformer)"
      ]
    },
    {
      "cell_type": "code",
      "execution_count": null,
      "metadata": {
        "id": "oC7NdupTUSq3"
      },
      "outputs": [],
      "source": [
        "#models parameters\n",
        "transformer_vars = [i for i in transformer.parameters()]\n",
        "d_vars = transformer_vars + [v for v in discriminator.parameters()]\n",
        "g_vars = [v for v in generator.parameters()]\n",
        "\n",
        "learning_rate_generator = 5e-5\n",
        "learning_rate_discriminator = 5e-5\n",
        "\n",
        "#optimizer\n",
        "dis_optimizer = torch.optim.AdamW(d_vars, lr=learning_rate_discriminator)\n",
        "gen_optimizer = torch.optim.AdamW(g_vars, lr=learning_rate_generator) "
      ]
    },
    {
      "cell_type": "code",
      "execution_count": null,
      "metadata": {
        "id": "v96GTfibVs7M"
      },
      "outputs": [],
      "source": [
        "#scheduler\n",
        "apply_scheduler = False\n",
        "batch_size = 64\n",
        "num_epochs = 10\n",
        "warmup_proportion = 0.1\n",
        "\n",
        "if apply_scheduler:\n",
        "  num_train_examples = len(train_examples)\n",
        "  num_train_steps = int(num_train_examples / batch_size * num_epochs)\n",
        "  num_warmup_steps = int(num_train_steps * warmup_proportion)\n",
        "\n",
        "  scheduler_d = get_constant_schedule_with_warmup(dis_optimizer, \n",
        "                                           num_warmup_steps = num_warmup_steps)\n",
        "  scheduler_g = get_constant_schedule_with_warmup(gen_optimizer, \n",
        "                                           num_warmup_steps = num_warmup_steps)"
      ]
    },
    {
      "cell_type": "markdown",
      "metadata": {
        "id": "Rn4H3BUqkLlk"
      },
      "source": [
        "## Training & Evaluation"
      ]
    },
    {
      "cell_type": "code",
      "execution_count": null,
      "metadata": {
        "colab": {
          "base_uri": "https://localhost:8080/"
        },
        "id": "NwzIwRaCWOiK",
        "outputId": "204a34f5-11cf-49f6-96a4-feee2d0cec6e"
      },
      "outputs": [
        {
          "output_type": "stream",
          "name": "stdout",
          "text": [
            "\n",
            "======== Epoch 1 / 10 ========\n",
            "Training...\n",
            "  Batch    40  of    235.    Elapsed: 0:00:28.\n",
            "  Batch    80  of    235.    Elapsed: 0:00:54.\n",
            "  Batch   120  of    235.    Elapsed: 0:01:20.\n",
            "  Batch   160  of    235.    Elapsed: 0:01:47.\n",
            "  Batch   200  of    235.    Elapsed: 0:02:13.\n",
            "\n",
            "  Average training loss generator: 0.673\n",
            "  Average training loss discriminator: 5.346\n",
            "  Training epoch took: 0:02:36\n",
            "\n",
            "Running validation...\n",
            "  Accuracy: 0.542\n",
            "Saving... 0\n",
            "  Val Loss: 2.954\n",
            "  Val took: 0:00:08\n",
            "\n",
            "======== Epoch 2 / 10 ========\n",
            "Training...\n",
            "  Batch    40  of    235.    Elapsed: 0:00:27.\n",
            "  Batch    80  of    235.    Elapsed: 0:00:53.\n",
            "  Batch   120  of    235.    Elapsed: 0:01:20.\n",
            "  Batch   160  of    235.    Elapsed: 0:01:46.\n",
            "  Batch   200  of    235.    Elapsed: 0:02:13.\n",
            "\n",
            "  Average training loss generator: 0.769\n",
            "  Average training loss discriminator: 2.727\n",
            "  Training epoch took: 0:02:36\n",
            "\n",
            "Running validation...\n",
            "  Accuracy: 0.887\n",
            "Saving... 1\n",
            "  Val Loss: 1.091\n",
            "  Val took: 0:00:08\n",
            "\n",
            "======== Epoch 3 / 10 ========\n",
            "Training...\n",
            "  Batch    40  of    235.    Elapsed: 0:00:26.\n",
            "  Batch    80  of    235.    Elapsed: 0:00:53.\n",
            "  Batch   120  of    235.    Elapsed: 0:01:20.\n",
            "  Batch   160  of    235.    Elapsed: 0:01:46.\n",
            "  Batch   200  of    235.    Elapsed: 0:02:13.\n",
            "\n",
            "  Average training loss generator: 0.750\n",
            "  Average training loss discriminator: 1.405\n",
            "  Training epoch took: 0:02:36\n",
            "\n",
            "Running validation...\n",
            "  Accuracy: 0.948\n",
            "Saving... 2\n",
            "  Val Loss: 0.431\n",
            "  Val took: 0:00:08\n",
            "\n",
            "======== Epoch 4 / 10 ========\n",
            "Training...\n",
            "  Batch    40  of    235.    Elapsed: 0:00:27.\n",
            "  Batch    80  of    235.    Elapsed: 0:00:53.\n",
            "  Batch   120  of    235.    Elapsed: 0:01:20.\n",
            "  Batch   160  of    235.    Elapsed: 0:01:46.\n",
            "  Batch   200  of    235.    Elapsed: 0:02:12.\n",
            "\n",
            "  Average training loss generator: 0.737\n",
            "  Average training loss discriminator: 0.950\n",
            "  Training epoch took: 0:02:35\n",
            "\n",
            "Running validation...\n",
            "  Accuracy: 0.957\n",
            "Saving... 3\n",
            "  Val Loss: 0.267\n",
            "  Val took: 0:00:08\n",
            "\n",
            "======== Epoch 5 / 10 ========\n",
            "Training...\n",
            "  Batch    40  of    235.    Elapsed: 0:00:26.\n",
            "  Batch    80  of    235.    Elapsed: 0:00:53.\n",
            "  Batch   120  of    235.    Elapsed: 0:01:19.\n",
            "  Batch   160  of    235.    Elapsed: 0:01:46.\n",
            "  Batch   200  of    235.    Elapsed: 0:02:12.\n",
            "\n",
            "  Average training loss generator: 0.731\n",
            "  Average training loss discriminator: 0.830\n",
            "  Training epoch took: 0:02:35\n",
            "\n",
            "Running validation...\n",
            "  Accuracy: 0.962\n",
            "Saving... 4\n",
            "  Val Loss: 0.225\n",
            "  Val took: 0:00:08\n",
            "\n",
            "======== Epoch 6 / 10 ========\n",
            "Training...\n",
            "  Batch    40  of    235.    Elapsed: 0:00:27.\n",
            "  Batch    80  of    235.    Elapsed: 0:00:53.\n",
            "  Batch   120  of    235.    Elapsed: 0:01:20.\n",
            "  Batch   160  of    235.    Elapsed: 0:01:46.\n",
            "  Batch   200  of    235.    Elapsed: 0:02:13.\n",
            "\n",
            "  Average training loss generator: 0.730\n",
            "  Average training loss discriminator: 0.773\n",
            "  Training epoch took: 0:02:35\n",
            "\n",
            "Running validation...\n",
            "  Accuracy: 0.962\n",
            "Saving... 5\n",
            "  Val Loss: 0.202\n",
            "  Val took: 0:00:08\n",
            "\n",
            "======== Epoch 7 / 10 ========\n",
            "Training...\n",
            "  Batch    40  of    235.    Elapsed: 0:00:26.\n",
            "  Batch    80  of    235.    Elapsed: 0:00:53.\n",
            "  Batch   120  of    235.    Elapsed: 0:01:19.\n",
            "  Batch   160  of    235.    Elapsed: 0:01:46.\n",
            "  Batch   200  of    235.    Elapsed: 0:02:12.\n",
            "\n",
            "  Average training loss generator: 0.728\n",
            "  Average training loss discriminator: 0.749\n",
            "  Training epoch took: 0:02:35\n",
            "\n",
            "Running validation...\n",
            "  Accuracy: 0.959\n",
            "  Val Loss: 0.211\n",
            "  Val took: 0:00:07\n",
            "\n",
            "======== Epoch 8 / 10 ========\n",
            "Training...\n",
            "  Batch    40  of    235.    Elapsed: 0:00:26.\n",
            "  Batch    80  of    235.    Elapsed: 0:00:53.\n",
            "  Batch   120  of    235.    Elapsed: 0:01:19.\n",
            "  Batch   160  of    235.    Elapsed: 0:01:46.\n",
            "  Batch   200  of    235.    Elapsed: 0:02:12.\n",
            "\n",
            "  Average training loss generator: 0.728\n",
            "  Average training loss discriminator: 0.744\n",
            "  Training epoch took: 0:02:35\n",
            "\n",
            "Running validation...\n",
            "  Accuracy: 0.954\n",
            "  Val Loss: 0.246\n",
            "  Val took: 0:00:07\n",
            "\n",
            "======== Epoch 9 / 10 ========\n",
            "Training...\n",
            "  Batch    40  of    235.    Elapsed: 0:00:26.\n",
            "  Batch    80  of    235.    Elapsed: 0:00:53.\n",
            "  Batch   120  of    235.    Elapsed: 0:01:19.\n",
            "  Batch   160  of    235.    Elapsed: 0:01:45.\n",
            "  Batch   200  of    235.    Elapsed: 0:02:12.\n",
            "\n",
            "  Average training loss generator: 0.730\n",
            "  Average training loss discriminator: 0.767\n",
            "  Training epoch took: 0:02:35\n",
            "\n",
            "Running validation...\n",
            "  Accuracy: 0.944\n",
            "  Val Loss: 0.312\n",
            "  Val took: 0:00:07\n",
            "\n",
            "======== Epoch 10 / 10 ========\n",
            "Training...\n",
            "  Batch    40  of    235.    Elapsed: 0:00:26.\n",
            "  Batch    80  of    235.    Elapsed: 0:00:53.\n",
            "  Batch   120  of    235.    Elapsed: 0:01:19.\n",
            "  Batch   160  of    235.    Elapsed: 0:01:45.\n",
            "  Batch   200  of    235.    Elapsed: 0:02:12.\n",
            "\n",
            "  Average training loss generator: 0.727\n",
            "  Average training loss discriminator: 0.761\n",
            "  Training epoch took: 0:02:35\n",
            "\n",
            "Running validation...\n",
            "  Accuracy: 0.949\n",
            "  Val Loss: 0.272\n",
            "  Val took: 0:00:07\n"
          ]
        }
      ],
      "source": [
        "# training & validation\n",
        "best_valid_loss = float('inf')\n",
        "model = '90_10'\n",
        "training_stats = []\n",
        "train_gen_loss_history = []\n",
        "train_disc_loss_history = []\n",
        "val_loss_history = []\n",
        "val_accuracies = []\n",
        "\n",
        "for epoch in range(num_epochs):\n",
        "  print(\"\")\n",
        "  print('======== Epoch {:} / {:} ========'.format(epoch + 1, num_epochs))\n",
        "  print('Training...')\n",
        "\n",
        "  t0 = time.time()\n",
        "\n",
        "  # loss for each epoch\n",
        "  tr_g_loss = 0\n",
        "  tr_d_loss = 0\n",
        "\n",
        "  transformer.train()\n",
        "  generator.train()\n",
        "  discriminator.train()\n",
        "\n",
        "  for idx, batch in enumerate(train_dataloader):\n",
        "\n",
        "    # Progress update every print_each_n_step batches.\n",
        "    if idx % 40 == 0 and not idx == 0:\n",
        "        # Calculate elapsed time in minutes.\n",
        "        elapsed = format_time(time.time() - t0)\n",
        "        \n",
        "        # Report progress.\n",
        "        print('  Batch {:>5,}  of  {:>5,}.    Elapsed: {:}.'.format(idx, len(train_dataloader), elapsed))\n",
        "\n",
        "    b_input_ids = batch[0].to(device) #tensor of input ids of that batch\n",
        "    b_input_mask = batch[1].to(device)\n",
        "    b_labels = batch[2].to(device)\n",
        "    b_label_mask = batch[3].to(device)\n",
        "\n",
        "    real_batch_size = b_input_ids.shape[0] \n",
        "    # print('real_batch_size: ', real_batch_size) #size of each batch = 64\n",
        "\n",
        "    model_outputs = transformer(b_input_ids, attention_mask=b_input_mask)\n",
        "    hidden_states = model_outputs[-1]\n",
        "    # print('hidden states', hidden_states.size()) #64x768 - 768 per sentence in batch\n",
        "\n",
        "    noise = torch.zeros(real_batch_size, noise_size, device=device).uniform_(0, 1)\n",
        "    # print('noise', noise.size()) # 64x100 - 100 per sentence in batch \n",
        "    gen_rep = generator(noise)\n",
        "    # print('gen output', gen_rep.size()) #64x768 \n",
        "    # both transformer + gen output are 768 size\n",
        "\n",
        "    disciminator_input = torch.cat([hidden_states, gen_rep], dim=0)\n",
        "    # print('disc input', disciminator_input.size()) # 64x768\n",
        "    features, logits, probs = discriminator(disciminator_input)\n",
        "\n",
        "    # print('disc output', features.size()) #64x768\n",
        "    # print('2: ', logits.size()) #64x152\n",
        "    # print('3: ', probs.size()) #64x152\n",
        "\n",
        "    features_list = torch.split(features, real_batch_size) #split 64x768 into 32,32\n",
        "    D_real_features = features_list[0]\n",
        "    D_fake_features = features_list[1] \n",
        "\n",
        "    logits_list = torch.split(logits, real_batch_size)\n",
        "    D_real_logits = logits_list[0]\n",
        "    D_fake_logits = logits_list[1]  \n",
        "\n",
        "    probs_list = torch.split(probs, real_batch_size)\n",
        "    D_real_probs = probs_list[0]\n",
        "    D_fake_probs = probs_list[1]\n",
        "\n",
        "    #loss\n",
        "\n",
        "    #gen loss\n",
        "    g_loss_d = -1 * torch.mean(torch.log(1 - D_fake_probs[:,-1] + 1e-8))\n",
        "    g_feat_reg = torch.mean(torch.pow(torch.mean(D_real_features, dim=0) - torch.mean(D_fake_features, dim=0), 2))\n",
        "    g_loss = g_loss_d + g_feat_reg\n",
        "\n",
        "    #disc loss\n",
        "    logits = D_real_logits[:,0:-1]\n",
        "    log_probs = F.log_softmax(logits, dim=-1)\n",
        "\n",
        "    label2one_hot = torch.nn.functional.one_hot(b_labels, 151)\n",
        "    per_example_loss = -torch.sum(label2one_hot * log_probs, dim=-1)\n",
        "    per_example_loss = torch.masked_select(per_example_loss, b_label_mask.to(device))\n",
        "    labeled_example_count = per_example_loss.type(torch.float32).numel()\n",
        "\n",
        "    if labeled_example_count == 0:\n",
        "      D_L_Supervised = 0\n",
        "    else:\n",
        "      D_L_Supervised = torch.div(torch.sum(per_example_loss.to(device)), labeled_example_count)\n",
        "\n",
        "    D_L_unsupervised1U = -1 * torch.mean(torch.log(1 - D_real_probs[:, -1] + 1e-8))\n",
        "    D_L_unsupervised2U = -1 * torch.mean(torch.log(D_fake_probs[:, -1] + 1e-8))\n",
        "    d_loss = D_L_Supervised + D_L_unsupervised1U + D_L_unsupervised2U\n",
        "\n",
        "    #optimization\n",
        "    gen_optimizer.zero_grad()\n",
        "    dis_optimizer.zero_grad()\n",
        "\n",
        "    g_loss.backward(retain_graph=True)\n",
        "    d_loss.backward()\n",
        "\n",
        "    gen_optimizer.step()\n",
        "    dis_optimizer.step()\n",
        "\n",
        "    tr_g_loss += g_loss.item()\n",
        "    tr_d_loss += d_loss.item()\n",
        "\n",
        "    if apply_scheduler:\n",
        "      scheduler_d.step()\n",
        "      scheduler_g.step()\n",
        "\n",
        "  avg_train_loss_g = tr_g_loss / len(train_dataloader)\n",
        "  avg_train_loss_d = tr_d_loss / len(train_dataloader)\n",
        "  \n",
        "  training_time = format_time(time.time() - t0)\n",
        "\n",
        "  print(\"\")\n",
        "  print(\"  Average training loss generator: {0:.3f}\".format(avg_train_loss_g))\n",
        "  print(\"  Average training loss discriminator: {0:.3f}\".format(avg_train_loss_d))\n",
        "  print(\"  Training epoch took: {:}\".format(training_time))\n",
        "  train_gen_loss_history.append(avg_train_loss_g)\n",
        "  train_disc_loss_history.append(avg_train_loss_d)\n",
        "\n",
        "  #EVALUATION\n",
        "\n",
        "  print(\"\")\n",
        "  print(\"Running validation...\")\n",
        "\n",
        "  t0 = time.time()\n",
        "\n",
        "  transformer.eval() \n",
        "  discriminator.eval()\n",
        "  generator.eval()\n",
        "\n",
        "  total_val_accuracy = 0\n",
        "   \n",
        "  total_val_loss = 0\n",
        "  nb_test_steps = 0\n",
        "\n",
        "  all_preds = []\n",
        "  all_labels_ids = []\n",
        "\n",
        "  #loss\n",
        "  nll_loss = torch.nn.CrossEntropyLoss(ignore_index=-1)\n",
        "\n",
        "  for idx, batch in enumerate(val_dataloader):\n",
        "    b_input_ids = batch[0].to(device)\n",
        "    b_input_mask = batch[1].to(device)\n",
        "    b_labels = batch[2].to(device)\n",
        "\n",
        "    with torch.no_grad():        \n",
        "        model_outputs = transformer(b_input_ids, attention_mask=b_input_mask)\n",
        "        hidden_states = model_outputs[-1]\n",
        "        _, logits, probs = discriminator(hidden_states)\n",
        "        ###log_probs = F.log_softmax(probs[:,1:], dim=-1)\n",
        "        filtered_logits = logits[:,0:-1]\n",
        "        # Accumulate the test loss.\n",
        "        total_val_loss += nll_loss(filtered_logits, b_labels)\n",
        "\n",
        "    # Accumulate the predictions and the input labels\n",
        "    _, preds = torch.max(filtered_logits, 1)\n",
        "    all_preds += preds.detach().cpu()\n",
        "    all_labels_ids += b_labels.detach().cpu()\n",
        "\n",
        "\n",
        "  # Report the final accuracy for this validation run.\n",
        "  all_preds = torch.stack(all_preds).numpy()\n",
        "  all_labels_ids = torch.stack(all_labels_ids).numpy()\n",
        "  val_accuracy = np.sum(all_preds == all_labels_ids) / len(all_preds)\n",
        "  print(\"  Accuracy: {0:.3f}\".format(val_accuracy))\n",
        "  val_accuracies.append(val_accuracy)\n",
        "\n",
        "  # Calculate the average loss over all of the batches.\n",
        "  avg_val_loss = total_val_loss / len(val_dataloader)\n",
        "  avg_val_loss = avg_val_loss.item()\n",
        "  if avg_val_loss < best_valid_loss:\n",
        "    best_valid_loss = avg_val_loss\n",
        "    torch.save(transformer.state_dict(), 'model_'+model+'.pt')\n",
        "    print(\"Saving...\", epoch)\n",
        "  test_time = format_time(time.time() - t0)\n",
        "    \n",
        "  print(\"  Val Loss: {0:.3f}\".format(avg_val_loss))\n",
        "  print(\"  Val took: {:}\".format(test_time))\n",
        "  val_loss_history.append(avg_val_loss)\n",
        "\n",
        "  training_stats.append(\n",
        "        {\n",
        "            'epoch': epoch + 1,\n",
        "            'Training Loss generator': avg_train_loss_g,\n",
        "            'Training Loss discriminator': avg_train_loss_d,\n",
        "            'Val Loss': avg_val_loss,\n",
        "            'Val Accur.': val_accuracy,\n",
        "            'Training Time': training_time,\n",
        "            'Val Time': test_time\n",
        "        }\n",
        "    )\n",
        "\n"
      ]
    },
    {
      "cell_type": "markdown",
      "metadata": {
        "id": "RnXPbu7bkN1P"
      },
      "source": [
        "## Testing"
      ]
    },
    {
      "cell_type": "code",
      "execution_count": null,
      "metadata": {
        "colab": {
          "base_uri": "https://localhost:8080/"
        },
        "id": "_rBWWVtyiPDP",
        "outputId": "0ac0a8c4-4173-4a99-c08f-222d111a5ea3"
      },
      "outputs": [
        {
          "output_type": "stream",
          "name": "stdout",
          "text": [
            "\n",
            "Running test...\n",
            "  Accuracy: 0.957\n",
            "  Test Loss: 0.238\n",
            "  Test took: 0:00:10\n"
          ]
        }
      ],
      "source": [
        "# testing\n",
        "\n",
        "print(\"\")\n",
        "print(\"Running test...\")\n",
        "transformer.load_state_dict(torch.load('model_'+model+'.pt')) # loading the best performing model \n",
        "\n",
        "t0 = time.time()\n",
        "\n",
        "transformer.eval() \n",
        "discriminator.eval()\n",
        "generator.eval()\n",
        "\n",
        "total_test_accuracy = 0\n",
        "  \n",
        "total_test_loss = 0\n",
        "nb_test_steps = 0\n",
        "\n",
        "all_preds = []\n",
        "all_labels_ids = []\n",
        "\n",
        "#loss\n",
        "nll_loss = torch.nn.CrossEntropyLoss(ignore_index=-1)\n",
        "\n",
        "for idx, batch in enumerate(test_dataloader):\n",
        "  b_input_ids = batch[0].to(device)\n",
        "  b_input_mask = batch[1].to(device)\n",
        "  b_labels = batch[2].to(device)\n",
        "\n",
        "  with torch.no_grad():        \n",
        "      model_outputs = transformer(b_input_ids, attention_mask=b_input_mask)\n",
        "      hidden_states = model_outputs[-1]\n",
        "      _, logits, probs = discriminator(hidden_states)\n",
        "      filtered_logits = logits[:,0:-1]\n",
        "      # Accumulate the test loss.\n",
        "      total_test_loss += nll_loss(filtered_logits, b_labels)\n",
        "\n",
        "  # Accumulate the predictions and the input labels\n",
        "  _, preds = torch.max(filtered_logits, 1)\n",
        "  all_preds += preds.detach().cpu()\n",
        "  all_labels_ids += b_labels.detach().cpu()\n",
        "\n",
        "\n",
        "# Report the final accuracy for this validation run.\n",
        "all_preds = torch.stack(all_preds).numpy()\n",
        "all_labels_ids = torch.stack(all_labels_ids).numpy()\n",
        "test_accuracy = np.sum(all_preds == all_labels_ids) / len(all_preds)\n",
        "print(\"  Accuracy: {0:.3f}\".format(test_accuracy))\n",
        "\n",
        "# Calculate the average loss over all of the batches.\n",
        "avg_test_loss = total_test_loss / len(test_dataloader)\n",
        "avg_test_loss = avg_test_loss.item()\n",
        "\n",
        "test_time = format_time(time.time() - t0)\n",
        "  \n",
        "print(\"  Test Loss: {0:.3f}\".format(avg_test_loss))\n",
        "print(\"  Test took: {:}\".format(test_time))"
      ]
    },
    {
      "cell_type": "markdown",
      "metadata": {
        "id": "Nw8-JkYbNuTd"
      },
      "source": [
        "### Loss & Accuracy curves"
      ]
    },
    {
      "cell_type": "code",
      "execution_count": null,
      "metadata": {
        "id": "LYmvWfgDJGDO"
      },
      "outputs": [],
      "source": [
        "import matplotlib.pyplot as plt"
      ]
    },
    {
      "cell_type": "code",
      "execution_count": null,
      "metadata": {
        "colab": {
          "base_uri": "https://localhost:8080/",
          "height": 313
        },
        "id": "R8APdI2FI_sm",
        "outputId": "6f93eb5d-ad5e-473b-9c49-3c457d6db4fe"
      },
      "outputs": [
        {
          "output_type": "execute_result",
          "data": {
            "text/plain": [
              "<matplotlib.legend.Legend at 0x7f6cf4c70d90>"
            ]
          },
          "metadata": {},
          "execution_count": 214
        },
        {
          "output_type": "display_data",
          "data": {
            "text/plain": [
              "<Figure size 432x288 with 1 Axes>"
            ],
            "image/png": "[encoded data removed]"
          },
          "metadata": {
            "needs_background": "light"
          }
        }
      ],
      "source": [
        "plt.plot(range(10),train_gen_loss_history,'-',linewidth=3,label='Generator Loss')\n",
        "plt.plot(range(10),train_disc_loss_history,'-',linewidth=3,label='Discriminator Loss')\n",
        "plt.plot(range(10),val_loss_history,'-',linewidth=3,label='Validation Loss')\n",
        "plt.xlabel('Epoch')\n",
        "plt.ylabel('Loss')\n",
        "plt.grid(True)\n",
        "plt.title(\"Split \"+ model)\n",
        "plt.legend()"
      ]
    },
    {
      "cell_type": "code",
      "execution_count": null,
      "metadata": {
        "colab": {
          "base_uri": "https://localhost:8080/",
          "height": 313
        },
        "id": "rZnmK6qTJtoU",
        "outputId": "fbc7926b-1bab-4d96-8cd3-d73f7548b601"
      },
      "outputs": [
        {
          "output_type": "execute_result",
          "data": {
            "text/plain": [
              "<matplotlib.legend.Legend at 0x7f6cf4c75700>"
            ]
          },
          "metadata": {},
          "execution_count": 183
        },
        {
          "output_type": "display_data",
          "data": {
            "text/plain": [
              "<Figure size 432x288 with 1 Axes>"
            ],
            "image/png": "[encoded data removed]"
          },
          "metadata": {
            "needs_background": "light"
          }
        }
      ],
      "source": [
        "plt.plot(range(10), val_accuracies,'-', linewidth=3, label='Validation accuracy')\n",
        "plt.xlabel('Epoch')\n",
        "plt.ylabel('Accuracy')\n",
        "plt.grid(True)\n",
        "plt.title(\"Split \"+ model)\n",
        "plt.legend()"
      ]
    },
    {
      "cell_type": "markdown",
      "metadata": {
        "id": "ptD8J0yrNp2W"
      },
      "source": [
        "### Statistics"
      ]
    },
    {
      "cell_type": "code",
      "execution_count": null,
      "metadata": {
        "id": "RjkB0uezNxf4",
        "colab": {
          "base_uri": "https://localhost:8080/"
        },
        "outputId": "92052b1c-d06f-44e0-cf2d-e8916265f0ea"
      },
      "outputs": [
        {
          "output_type": "stream",
          "name": "stdout",
          "text": [
            "Done\n"
          ]
        }
      ],
      "source": [
        "\n",
        "stats = []\n",
        "stats.append(\n",
        "    {\n",
        "    'gen train loss history': train_gen_loss_history ,\n",
        "    'disc train loss history': train_disc_loss_history,\n",
        "    'val loss': val_loss_history,\n",
        "    'val accuracy': val_accuracies,\n",
        "    'test loss': avg_test_loss,\n",
        "    'test accuracy': test_accuracy\n",
        "    }\n",
        ")\n",
        "\n",
        "with open('stats_'+model+'best'+'.txt','w') as f_out:\n",
        "  f_out.write(str(stats[0]))\n",
        "  print('Done')\n",
        "  f_out.close()\n"
      ]
    },
    {
      "cell_type": "code",
      "execution_count": null,
      "metadata": {
        "id": "lH5SmKoldaRD"
      },
      "outputs": [],
      "source": []
    }
  ],
  "metadata": {
    "colab": {
      "provenance": []
    },
    "gpuClass": "standard",
    "kernelspec": {
      "display_name": "Python 3",
      "name": "python3"
    },
    "language_info": {
      "name": "python"
    },
    "accelerator": "GPU"
  },
  "nbformat": 4,
  "nbformat_minor": 0
}